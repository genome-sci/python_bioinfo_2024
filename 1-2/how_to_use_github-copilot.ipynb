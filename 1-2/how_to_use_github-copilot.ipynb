{
 "cells": [
  {
   "cell_type": "markdown",
   "id": "cabfb2af-f508-4f65-8cbb-51efb7e7ae80",
   "metadata": {},
   "source": [
    "- Notebook Intelligence (NBI)  \n",
    "    https://github.com/notebook-intelligence/notebook-intelligence  \n",
    "\n",
    "    ```\n",
    "    pip install notebook-intelligence\n",
    "    ```\n",
    "\n"
   ]
  },
  {
   "cell_type": "code",
   "execution_count": 5,
   "id": "1d9e447f-60e4-4634-a289-c8e5c8ae1d28",
   "metadata": {},
   "outputs": [],
   "source": [
    "# nbi-prompt: creeat a funcition to parse CSV file\n",
    "def parse_csv_file(file_path):\n",
    "    import csv\n",
    "    \n",
    "    data = []\n",
    "    with open(file_path, 'r') as file:\n",
    "        csv_reader = csv.reader(file)\n",
    "        for row in csv_reader:\n",
    "            data.append(row)\n",
    "    \n",
    "    return data"
   ]
  },
  {
   "cell_type": "code",
   "execution_count": null,
   "id": "a30fc1ea-d1b6-4374-988b-c5e54bcd4057",
   "metadata": {},
   "outputs": [],
   "source": [
    "def parse_VCF_file(file_path):\n",
    "    import vcf\n",
    "    \n",
    "    data = []\n",
    "    with open(file_path, 'r') as file:\n",
    "        vcf_reader = vcf.Reader(file)\n",
    "        for record in vcf_reader:\n",
    "            data.append(record)\n",
    "    \n",
    "    return data"
   ]
  },
  {
   "cell_type": "code",
   "execution_count": null,
   "id": "6b5f0c48-ccf9-4e89-8c08-69f3d1da9527",
   "metadata": {},
   "outputs": [],
   "source": []
  }
 ],
 "metadata": {
  "kernelspec": {
   "display_name": "Python 3 (ipykernel)",
   "language": "python",
   "name": "python3"
  },
  "language_info": {
   "codemirror_mode": {
    "name": "ipython",
    "version": 3
   },
   "file_extension": ".py",
   "mimetype": "text/x-python",
   "name": "python",
   "nbconvert_exporter": "python",
   "pygments_lexer": "ipython3",
   "version": "3.11.11"
  }
 },
 "nbformat": 4,
 "nbformat_minor": 5
}
