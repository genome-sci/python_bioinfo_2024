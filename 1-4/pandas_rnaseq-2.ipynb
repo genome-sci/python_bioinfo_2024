{
 "cells": [
  {
   "cell_type": "markdown",
   "metadata": {},
   "source": [
    "# RNA-seqカウントデータの前処理(2)"
   ]
  },
  {
   "cell_type": "markdown",
   "metadata": {},
   "source": [
    "- データの読み込み\n",
    "- カウントデータの正規化（ RPM/FPM, FPKM, TPM)\n",
    "- サンプル間のクラスタリング　\n",
    "- 遺伝子のアノテーション( transcript_idとgene_idの対応、gene_idに対応したdescriptionの付与 )\n",
    "- 発現量比 ( fold-change )の計算"
   ]
  },
  {
   "cell_type": "markdown",
   "metadata": {},
   "source": [
    "### 2.データファイルの読み込み"
   ]
  },
  {
   "cell_type": "markdown",
   "metadata": {},
   "source": [
    "#### 準備\n",
    "pandas を pd としてインポートします。同様に numpy を np としてインポートします"
   ]
  },
  {
   "cell_type": "code",
   "execution_count": 1,
   "metadata": {},
   "outputs": [
    {
     "name": "stdout",
     "output_type": "stream",
     "text": [
      "3.12.8 | packaged by conda-forge | (main, Dec  5 2024, 14:25:12) [Clang 18.1.8 ]\n",
      "2.2.2\n",
      "2.0.2\n"
     ]
    }
   ],
   "source": [
    "# モジュールのimport\n",
    "import sys\n",
    "import pandas as pd\n",
    "import numpy as np\n",
    "\n",
    "# versionの確認\n",
    "print(sys.version)\n",
    "print(pd.__version__) # pandasのバージョン確認\n",
    "print(np.__version__) # numpyのバージョン確認"
   ]
  },
  {
   "cell_type": "code",
   "execution_count": 2,
   "metadata": {},
   "outputs": [],
   "source": [
    "# カウントデータをまとめたファイル ( counts_kalisto.tsv ) のパスを指定\n",
    "count_file = 'data/counts_kallisto.tsv'"
   ]
  },
  {
   "cell_type": "markdown",
   "metadata": {},
   "source": [
    "#### カウントデータファイルについて<br>\n",
    "counts_kallisto.tsvを開くと以下のようになっています<br>\n",
    "```\n",
    "target_id\teff_length\tSRR17223720\tSRR17223721\tSRR17223722\tSRR17223723\tSRR17223724\tSRR17223725\n",
    "ENSMUST00000178537.2\t6.74193\t0.0\t0.0\t0.0\t0.0\t0.0\t0.0\n",
    "ENSMUST00000178862.2\t7.65825\t0.0\t0.0\t0.0\t0.0\t0.0\t0.0\n",
    "ENSMUST00000196221.2\t5.34639\t0.0\t0.0\t0.0\t0.0\t0.0\t0.0\n",
    "ENSMUST00000179664.2\t6.27959\t0.0\t0.0\t0.0\t0.0\t0.0\t0.0\n",
    "ENSMUST00000177564.2\t8.56364\t0.0\t0.0\t0.0\t0.0\t0.0\t0.0\n",
    "... 以下省略\n",
    "```\n",
    "1行目は列タイトルを表すヘッダー行です<br>\n",
    "2行目以降からがデータ行です。一番左の列が遺伝子idになっているのでこれをインデックスに用います"
   ]
  },
  {
   "cell_type": "markdown",
   "metadata": {},
   "source": [
    "`pd.read_table()` メソッドの`index_col`オプションを指定して読み込みます<br>\n",
    "\n",
    "- index_col...インデックスとして用いる列を数字で指定します"
   ]
  },
  {
   "cell_type": "code",
   "execution_count": 3,
   "metadata": {},
   "outputs": [],
   "source": [
    "df = pd.read_table(count_file, index_col=0)"
   ]
  },
  {
   "cell_type": "markdown",
   "metadata": {},
   "source": [
    "`pd.read_table(path/to/file)` のかわりに`pd.read_csv(path/to/file,sep='\\t') `を用いることもできます<br>\n",
    "`sep='\\t'`は`delimiter='\\t'` も使えます"
   ]
  },
  {
   "cell_type": "markdown",
   "metadata": {},
   "source": [
    "#### データの概観\n",
    "データを概観してみましょう"
   ]
  },
  {
   "cell_type": "code",
   "execution_count": 4,
   "metadata": {},
   "outputs": [
    {
     "data": {
      "text/html": [
       "<div>\n",
       "<style scoped>\n",
       "    .dataframe tbody tr th:only-of-type {\n",
       "        vertical-align: middle;\n",
       "    }\n",
       "\n",
       "    .dataframe tbody tr th {\n",
       "        vertical-align: top;\n",
       "    }\n",
       "\n",
       "    .dataframe thead th {\n",
       "        text-align: right;\n",
       "    }\n",
       "</style>\n",
       "<table border=\"1\" class=\"dataframe\">\n",
       "  <thead>\n",
       "    <tr style=\"text-align: right;\">\n",
       "      <th></th>\n",
       "      <th>eff_length</th>\n",
       "      <th>SRR17223720</th>\n",
       "      <th>SRR17223721</th>\n",
       "      <th>SRR17223722</th>\n",
       "      <th>SRR17223723</th>\n",
       "      <th>SRR17223724</th>\n",
       "      <th>SRR17223725</th>\n",
       "    </tr>\n",
       "    <tr>\n",
       "      <th>target_id</th>\n",
       "      <th></th>\n",
       "      <th></th>\n",
       "      <th></th>\n",
       "      <th></th>\n",
       "      <th></th>\n",
       "      <th></th>\n",
       "      <th></th>\n",
       "    </tr>\n",
       "  </thead>\n",
       "  <tbody>\n",
       "    <tr>\n",
       "      <th>ENSMUST00000178537.2</th>\n",
       "      <td>6.74193</td>\n",
       "      <td>0.0</td>\n",
       "      <td>0.0</td>\n",
       "      <td>0.0</td>\n",
       "      <td>0.0</td>\n",
       "      <td>0.0</td>\n",
       "      <td>0.0</td>\n",
       "    </tr>\n",
       "    <tr>\n",
       "      <th>ENSMUST00000178862.2</th>\n",
       "      <td>7.65825</td>\n",
       "      <td>0.0</td>\n",
       "      <td>0.0</td>\n",
       "      <td>0.0</td>\n",
       "      <td>0.0</td>\n",
       "      <td>0.0</td>\n",
       "      <td>0.0</td>\n",
       "    </tr>\n",
       "    <tr>\n",
       "      <th>ENSMUST00000196221.2</th>\n",
       "      <td>5.34639</td>\n",
       "      <td>0.0</td>\n",
       "      <td>0.0</td>\n",
       "      <td>0.0</td>\n",
       "      <td>0.0</td>\n",
       "      <td>0.0</td>\n",
       "      <td>0.0</td>\n",
       "    </tr>\n",
       "    <tr>\n",
       "      <th>ENSMUST00000179664.2</th>\n",
       "      <td>6.27959</td>\n",
       "      <td>0.0</td>\n",
       "      <td>0.0</td>\n",
       "      <td>0.0</td>\n",
       "      <td>0.0</td>\n",
       "      <td>0.0</td>\n",
       "      <td>0.0</td>\n",
       "    </tr>\n",
       "    <tr>\n",
       "      <th>ENSMUST00000177564.2</th>\n",
       "      <td>8.56364</td>\n",
       "      <td>0.0</td>\n",
       "      <td>0.0</td>\n",
       "      <td>0.0</td>\n",
       "      <td>0.0</td>\n",
       "      <td>0.0</td>\n",
       "      <td>0.0</td>\n",
       "    </tr>\n",
       "  </tbody>\n",
       "</table>\n",
       "</div>"
      ],
      "text/plain": [
       "                      eff_length  SRR17223720  SRR17223721  SRR17223722  \\\n",
       "target_id                                                                 \n",
       "ENSMUST00000178537.2     6.74193          0.0          0.0          0.0   \n",
       "ENSMUST00000178862.2     7.65825          0.0          0.0          0.0   \n",
       "ENSMUST00000196221.2     5.34639          0.0          0.0          0.0   \n",
       "ENSMUST00000179664.2     6.27959          0.0          0.0          0.0   \n",
       "ENSMUST00000177564.2     8.56364          0.0          0.0          0.0   \n",
       "\n",
       "                      SRR17223723  SRR17223724  SRR17223725  \n",
       "target_id                                                    \n",
       "ENSMUST00000178537.2          0.0          0.0          0.0  \n",
       "ENSMUST00000178862.2          0.0          0.0          0.0  \n",
       "ENSMUST00000196221.2          0.0          0.0          0.0  \n",
       "ENSMUST00000179664.2          0.0          0.0          0.0  \n",
       "ENSMUST00000177564.2          0.0          0.0          0.0  "
      ]
     },
     "execution_count": 4,
     "metadata": {},
     "output_type": "execute_result"
    }
   ],
   "source": [
    "# head()で列名とインデックスが正しく読み込まれているかを確認します\n",
    "df.head()"
   ]
  },
  {
   "cell_type": "code",
   "execution_count": 5,
   "metadata": {},
   "outputs": [
    {
     "data": {
      "text/plain": [
       "target_id\n",
       "ENSMUST00000178537.2    6.74193\n",
       "ENSMUST00000178862.2    7.65825\n",
       "ENSMUST00000196221.2    5.34639\n",
       "ENSMUST00000179664.2    6.27959\n",
       "ENSMUST00000177564.2    8.56364\n",
       "Name: eff_length, dtype: float64"
      ]
     },
     "execution_count": 5,
     "metadata": {},
     "output_type": "execute_result"
    }
   ],
   "source": [
    "# 'eff_length'列だけ確認\n",
    "df.eff_length.head()"
   ]
  },
  {
   "cell_type": "markdown",
   "metadata": {},
   "source": [
    "カウントデータファイルの行数と列数を確認します"
   ]
  },
  {
   "cell_type": "code",
   "execution_count": 6,
   "metadata": {},
   "outputs": [
    {
     "data": {
      "text/plain": [
       "(117062, 7)"
      ]
     },
     "execution_count": 6,
     "metadata": {},
     "output_type": "execute_result"
    }
   ],
   "source": [
    "# データ件数を確認\n",
    "df.shape"
   ]
  },
  {
   "cell_type": "markdown",
   "metadata": {},
   "source": [
    "#### 列名を変更する"
   ]
  },
  {
   "cell_type": "code",
   "execution_count": 7,
   "metadata": {},
   "outputs": [],
   "source": [
    "# 列名を変更するための対応表\n",
    "names = {'SRR17223720': 'wt_1',\n",
    "         'SRR17223721': 'wt_2',\n",
    "         'SRR17223722': 'wt_3',\n",
    "         'SRR17223723': 'mutant_1',\n",
    "         'SRR17223724': 'mutant_2',\n",
    "         'SRR17223725': 'mutant_3'}"
   ]
  },
  {
   "cell_type": "markdown",
   "metadata": {},
   "source": [
    "`rename()` を `axis=1` を適用して使い、列名を変更します"
   ]
  },
  {
   "cell_type": "code",
   "execution_count": 8,
   "metadata": {},
   "outputs": [],
   "source": [
    "df = df.rename(mapper=names, axis=1)"
   ]
  },
  {
   "cell_type": "markdown",
   "metadata": {},
   "source": [
    "`rename()` を使わなくても、既存の列を別名でコピーした後で元の列を削除、という方法でも可能です\n",
    "```\n",
    "df['wt_1'] = df['SRR17223720']\n",
    "del df['SRR17223720']\n",
    "```"
   ]
  },
  {
   "cell_type": "code",
   "execution_count": 9,
   "metadata": {},
   "outputs": [
    {
     "data": {
      "text/html": [
       "<div>\n",
       "<style scoped>\n",
       "    .dataframe tbody tr th:only-of-type {\n",
       "        vertical-align: middle;\n",
       "    }\n",
       "\n",
       "    .dataframe tbody tr th {\n",
       "        vertical-align: top;\n",
       "    }\n",
       "\n",
       "    .dataframe thead th {\n",
       "        text-align: right;\n",
       "    }\n",
       "</style>\n",
       "<table border=\"1\" class=\"dataframe\">\n",
       "  <thead>\n",
       "    <tr style=\"text-align: right;\">\n",
       "      <th></th>\n",
       "      <th>eff_length</th>\n",
       "      <th>wt_1</th>\n",
       "      <th>wt_2</th>\n",
       "      <th>wt_3</th>\n",
       "      <th>mutant_1</th>\n",
       "      <th>mutant_2</th>\n",
       "      <th>mutant_3</th>\n",
       "    </tr>\n",
       "    <tr>\n",
       "      <th>target_id</th>\n",
       "      <th></th>\n",
       "      <th></th>\n",
       "      <th></th>\n",
       "      <th></th>\n",
       "      <th></th>\n",
       "      <th></th>\n",
       "      <th></th>\n",
       "    </tr>\n",
       "  </thead>\n",
       "  <tbody>\n",
       "    <tr>\n",
       "      <th>ENSMUST00000178537.2</th>\n",
       "      <td>6.74193</td>\n",
       "      <td>0.0</td>\n",
       "      <td>0.0</td>\n",
       "      <td>0.0</td>\n",
       "      <td>0.0</td>\n",
       "      <td>0.0</td>\n",
       "      <td>0.0</td>\n",
       "    </tr>\n",
       "    <tr>\n",
       "      <th>ENSMUST00000178862.2</th>\n",
       "      <td>7.65825</td>\n",
       "      <td>0.0</td>\n",
       "      <td>0.0</td>\n",
       "      <td>0.0</td>\n",
       "      <td>0.0</td>\n",
       "      <td>0.0</td>\n",
       "      <td>0.0</td>\n",
       "    </tr>\n",
       "    <tr>\n",
       "      <th>ENSMUST00000196221.2</th>\n",
       "      <td>5.34639</td>\n",
       "      <td>0.0</td>\n",
       "      <td>0.0</td>\n",
       "      <td>0.0</td>\n",
       "      <td>0.0</td>\n",
       "      <td>0.0</td>\n",
       "      <td>0.0</td>\n",
       "    </tr>\n",
       "    <tr>\n",
       "      <th>ENSMUST00000179664.2</th>\n",
       "      <td>6.27959</td>\n",
       "      <td>0.0</td>\n",
       "      <td>0.0</td>\n",
       "      <td>0.0</td>\n",
       "      <td>0.0</td>\n",
       "      <td>0.0</td>\n",
       "      <td>0.0</td>\n",
       "    </tr>\n",
       "    <tr>\n",
       "      <th>ENSMUST00000177564.2</th>\n",
       "      <td>8.56364</td>\n",
       "      <td>0.0</td>\n",
       "      <td>0.0</td>\n",
       "      <td>0.0</td>\n",
       "      <td>0.0</td>\n",
       "      <td>0.0</td>\n",
       "      <td>0.0</td>\n",
       "    </tr>\n",
       "  </tbody>\n",
       "</table>\n",
       "</div>"
      ],
      "text/plain": [
       "                      eff_length  wt_1  wt_2  wt_3  mutant_1  mutant_2  \\\n",
       "target_id                                                                \n",
       "ENSMUST00000178537.2     6.74193   0.0   0.0   0.0       0.0       0.0   \n",
       "ENSMUST00000178862.2     7.65825   0.0   0.0   0.0       0.0       0.0   \n",
       "ENSMUST00000196221.2     5.34639   0.0   0.0   0.0       0.0       0.0   \n",
       "ENSMUST00000179664.2     6.27959   0.0   0.0   0.0       0.0       0.0   \n",
       "ENSMUST00000177564.2     8.56364   0.0   0.0   0.0       0.0       0.0   \n",
       "\n",
       "                      mutant_3  \n",
       "target_id                       \n",
       "ENSMUST00000178537.2       0.0  \n",
       "ENSMUST00000178862.2       0.0  \n",
       "ENSMUST00000196221.2       0.0  \n",
       "ENSMUST00000179664.2       0.0  \n",
       "ENSMUST00000177564.2       0.0  "
      ]
     },
     "execution_count": 9,
     "metadata": {},
     "output_type": "execute_result"
    }
   ],
   "source": [
    "df.head()"
   ]
  },
  {
   "cell_type": "markdown",
   "metadata": {},
   "source": [
    "カウントデータ部分のみを切り出し"
   ]
  },
  {
   "cell_type": "code",
   "execution_count": 10,
   "metadata": {},
   "outputs": [],
   "source": [
    "df_count = df[['wt_1','wt_2','wt_3','mutant_1','mutant_2','mutant_3']]"
   ]
  },
  {
   "cell_type": "code",
   "execution_count": 11,
   "metadata": {},
   "outputs": [
    {
     "data": {
      "text/html": [
       "<div>\n",
       "<style scoped>\n",
       "    .dataframe tbody tr th:only-of-type {\n",
       "        vertical-align: middle;\n",
       "    }\n",
       "\n",
       "    .dataframe tbody tr th {\n",
       "        vertical-align: top;\n",
       "    }\n",
       "\n",
       "    .dataframe thead th {\n",
       "        text-align: right;\n",
       "    }\n",
       "</style>\n",
       "<table border=\"1\" class=\"dataframe\">\n",
       "  <thead>\n",
       "    <tr style=\"text-align: right;\">\n",
       "      <th></th>\n",
       "      <th>wt_1</th>\n",
       "      <th>wt_2</th>\n",
       "      <th>wt_3</th>\n",
       "      <th>mutant_1</th>\n",
       "      <th>mutant_2</th>\n",
       "      <th>mutant_3</th>\n",
       "    </tr>\n",
       "    <tr>\n",
       "      <th>target_id</th>\n",
       "      <th></th>\n",
       "      <th></th>\n",
       "      <th></th>\n",
       "      <th></th>\n",
       "      <th></th>\n",
       "      <th></th>\n",
       "    </tr>\n",
       "  </thead>\n",
       "  <tbody>\n",
       "    <tr>\n",
       "      <th>ENSMUST00000178537.2</th>\n",
       "      <td>0.00000</td>\n",
       "      <td>0.0000</td>\n",
       "      <td>0.0000</td>\n",
       "      <td>0.00000</td>\n",
       "      <td>0.00000</td>\n",
       "      <td>0.00000</td>\n",
       "    </tr>\n",
       "    <tr>\n",
       "      <th>ENSMUST00000178862.2</th>\n",
       "      <td>0.00000</td>\n",
       "      <td>0.0000</td>\n",
       "      <td>0.0000</td>\n",
       "      <td>0.00000</td>\n",
       "      <td>0.00000</td>\n",
       "      <td>0.00000</td>\n",
       "    </tr>\n",
       "    <tr>\n",
       "      <th>ENSMUST00000196221.2</th>\n",
       "      <td>0.00000</td>\n",
       "      <td>0.0000</td>\n",
       "      <td>0.0000</td>\n",
       "      <td>0.00000</td>\n",
       "      <td>0.00000</td>\n",
       "      <td>0.00000</td>\n",
       "    </tr>\n",
       "    <tr>\n",
       "      <th>ENSMUST00000179664.2</th>\n",
       "      <td>0.00000</td>\n",
       "      <td>0.0000</td>\n",
       "      <td>0.0000</td>\n",
       "      <td>0.00000</td>\n",
       "      <td>0.00000</td>\n",
       "      <td>0.00000</td>\n",
       "    </tr>\n",
       "    <tr>\n",
       "      <th>ENSMUST00000177564.2</th>\n",
       "      <td>0.00000</td>\n",
       "      <td>0.0000</td>\n",
       "      <td>0.0000</td>\n",
       "      <td>0.00000</td>\n",
       "      <td>0.00000</td>\n",
       "      <td>0.00000</td>\n",
       "    </tr>\n",
       "    <tr>\n",
       "      <th>...</th>\n",
       "      <td>...</td>\n",
       "      <td>...</td>\n",
       "      <td>...</td>\n",
       "      <td>...</td>\n",
       "      <td>...</td>\n",
       "      <td>...</td>\n",
       "    </tr>\n",
       "    <tr>\n",
       "      <th>ENSMUST00000214850.2</th>\n",
       "      <td>0.00000</td>\n",
       "      <td>0.0000</td>\n",
       "      <td>0.0000</td>\n",
       "      <td>0.00000</td>\n",
       "      <td>0.00000</td>\n",
       "      <td>0.00000</td>\n",
       "    </tr>\n",
       "    <tr>\n",
       "      <th>ENSMUST00000116469.3</th>\n",
       "      <td>0.00000</td>\n",
       "      <td>0.0000</td>\n",
       "      <td>0.0000</td>\n",
       "      <td>0.00000</td>\n",
       "      <td>0.00000</td>\n",
       "      <td>0.00000</td>\n",
       "    </tr>\n",
       "    <tr>\n",
       "      <th>ENSMUST00000175694.2</th>\n",
       "      <td>2.98714</td>\n",
       "      <td>13.4728</td>\n",
       "      <td>21.9117</td>\n",
       "      <td>1.30724</td>\n",
       "      <td>4.55426</td>\n",
       "      <td>1.02826</td>\n",
       "    </tr>\n",
       "    <tr>\n",
       "      <th>ENSMUST00000117697.2</th>\n",
       "      <td>0.00000</td>\n",
       "      <td>0.0000</td>\n",
       "      <td>0.0000</td>\n",
       "      <td>0.00000</td>\n",
       "      <td>0.00000</td>\n",
       "      <td>0.00000</td>\n",
       "    </tr>\n",
       "    <tr>\n",
       "      <th>ENSMUST00000213427.2</th>\n",
       "      <td>0.00000</td>\n",
       "      <td>0.0000</td>\n",
       "      <td>0.0000</td>\n",
       "      <td>0.00000</td>\n",
       "      <td>0.00000</td>\n",
       "      <td>0.00000</td>\n",
       "    </tr>\n",
       "  </tbody>\n",
       "</table>\n",
       "<p>117062 rows × 6 columns</p>\n",
       "</div>"
      ],
      "text/plain": [
       "                         wt_1     wt_2     wt_3  mutant_1  mutant_2  mutant_3\n",
       "target_id                                                                    \n",
       "ENSMUST00000178537.2  0.00000   0.0000   0.0000   0.00000   0.00000   0.00000\n",
       "ENSMUST00000178862.2  0.00000   0.0000   0.0000   0.00000   0.00000   0.00000\n",
       "ENSMUST00000196221.2  0.00000   0.0000   0.0000   0.00000   0.00000   0.00000\n",
       "ENSMUST00000179664.2  0.00000   0.0000   0.0000   0.00000   0.00000   0.00000\n",
       "ENSMUST00000177564.2  0.00000   0.0000   0.0000   0.00000   0.00000   0.00000\n",
       "...                       ...      ...      ...       ...       ...       ...\n",
       "ENSMUST00000214850.2  0.00000   0.0000   0.0000   0.00000   0.00000   0.00000\n",
       "ENSMUST00000116469.3  0.00000   0.0000   0.0000   0.00000   0.00000   0.00000\n",
       "ENSMUST00000175694.2  2.98714  13.4728  21.9117   1.30724   4.55426   1.02826\n",
       "ENSMUST00000117697.2  0.00000   0.0000   0.0000   0.00000   0.00000   0.00000\n",
       "ENSMUST00000213427.2  0.00000   0.0000   0.0000   0.00000   0.00000   0.00000\n",
       "\n",
       "[117062 rows x 6 columns]"
      ]
     },
     "execution_count": 11,
     "metadata": {},
     "output_type": "execute_result"
    }
   ],
   "source": [
    "# スライスで指定する場合　\n",
    "df.iloc[:, 1:7]"
   ]
  },
  {
   "cell_type": "markdown",
   "metadata": {},
   "source": [
    "#### ファイルの保存\n",
    "保存用に`output/`フォルダを用意し, estimate_countのみのデータを`count_raw.tsv`として保存します"
   ]
  },
  {
   "cell_type": "code",
   "execution_count": 12,
   "metadata": {},
   "outputs": [],
   "source": [
    "# estimate_countのみのデータの保存\n",
    "df_count.to_csv('output/count_raw.tsv', sep = '\\t')"
   ]
  },
  {
   "cell_type": "markdown",
   "metadata": {},
   "source": [
    "シェルコマンド head を使って確認してみます。<br>\n",
    "`%%bash`でJupyter notebookのセル内でbashコマンドを実行させることができます"
   ]
  },
  {
   "cell_type": "code",
   "execution_count": 13,
   "metadata": {},
   "outputs": [
    {
     "name": "stdout",
     "output_type": "stream",
     "text": [
      "target_id\twt_1\twt_2\twt_3\tmutant_1\tmutant_2\tmutant_3\n",
      "ENSMUST00000178537.2\t0.0\t0.0\t0.0\t0.0\t0.0\t0.0\n",
      "ENSMUST00000178862.2\t0.0\t0.0\t0.0\t0.0\t0.0\t0.0\n",
      "ENSMUST00000196221.2\t0.0\t0.0\t0.0\t0.0\t0.0\t0.0\n",
      "ENSMUST00000179664.2\t0.0\t0.0\t0.0\t0.0\t0.0\t0.0\n",
      "ENSMUST00000177564.2\t0.0\t0.0\t0.0\t0.0\t0.0\t0.0\n",
      "ENSMUST00000179520.2\t0.0\t0.0\t0.0\t0.0\t0.0\t0.0\n",
      "ENSMUST00000179883.2\t0.0\t0.0\t0.0\t0.0\t0.0\t0.0\n",
      "ENSMUST00000195858.2\t0.0\t0.0\t0.0\t0.0\t0.0\t0.0\n",
      "ENSMUST00000179932.2\t0.0\t0.0\t0.0\t0.0\t0.0\t0.0\n"
     ]
    }
   ],
   "source": [
    "%%bash\n",
    "head output/count_raw.tsv"
   ]
  },
  {
   "cell_type": "markdown",
   "metadata": {},
   "source": [
    "### 3. カウントデータの正規化\n",
    "#### Step1. リード数で正規化 (RPM/FPM)\n",
    "\n",
    "100万リードあたりのカウント数に揃えます<br>\n",
    "RPM = reads per million, FPM = fragments per million<br>\n",
    "ほぼ同じ意味で用いられているので, 本講義では「FPM」を使います<br>\n",
    "<br>\n",
    "カウントデータをいったん別のデータフレームとしてコピーしておきます"
   ]
  },
  {
   "cell_type": "code",
   "execution_count": 14,
   "metadata": {},
   "outputs": [],
   "source": [
    "df_tmp = df_count.copy()"
   ]
  },
  {
   "cell_type": "code",
   "execution_count": 15,
   "metadata": {},
   "outputs": [
    {
     "data": {
      "text/html": [
       "<div>\n",
       "<style scoped>\n",
       "    .dataframe tbody tr th:only-of-type {\n",
       "        vertical-align: middle;\n",
       "    }\n",
       "\n",
       "    .dataframe tbody tr th {\n",
       "        vertical-align: top;\n",
       "    }\n",
       "\n",
       "    .dataframe thead th {\n",
       "        text-align: right;\n",
       "    }\n",
       "</style>\n",
       "<table border=\"1\" class=\"dataframe\">\n",
       "  <thead>\n",
       "    <tr style=\"text-align: right;\">\n",
       "      <th></th>\n",
       "      <th>wt_1</th>\n",
       "      <th>wt_2</th>\n",
       "      <th>wt_3</th>\n",
       "      <th>mutant_1</th>\n",
       "      <th>mutant_2</th>\n",
       "      <th>mutant_3</th>\n",
       "    </tr>\n",
       "    <tr>\n",
       "      <th>target_id</th>\n",
       "      <th></th>\n",
       "      <th></th>\n",
       "      <th></th>\n",
       "      <th></th>\n",
       "      <th></th>\n",
       "      <th></th>\n",
       "    </tr>\n",
       "  </thead>\n",
       "  <tbody>\n",
       "    <tr>\n",
       "      <th>ENSMUST00000212686.2</th>\n",
       "      <td>66.4791</td>\n",
       "      <td>91.8426</td>\n",
       "      <td>177.0430</td>\n",
       "      <td>79.453100</td>\n",
       "      <td>186.7240</td>\n",
       "      <td>36.12280</td>\n",
       "    </tr>\n",
       "    <tr>\n",
       "      <th>ENSMUST00000034369.10</th>\n",
       "      <td>194.1700</td>\n",
       "      <td>152.8820</td>\n",
       "      <td>367.0170</td>\n",
       "      <td>188.466000</td>\n",
       "      <td>384.7460</td>\n",
       "      <td>204.43100</td>\n",
       "    </tr>\n",
       "    <tr>\n",
       "      <th>ENSMUST00000212938.2</th>\n",
       "      <td>42.1595</td>\n",
       "      <td>29.3632</td>\n",
       "      <td>57.3888</td>\n",
       "      <td>32.338600</td>\n",
       "      <td>0.0000</td>\n",
       "      <td>8.82529</td>\n",
       "    </tr>\n",
       "    <tr>\n",
       "      <th>ENSMUST00000212876.2</th>\n",
       "      <td>0.0000</td>\n",
       "      <td>18.9861</td>\n",
       "      <td>0.0000</td>\n",
       "      <td>0.018553</td>\n",
       "      <td>80.5943</td>\n",
       "      <td>25.10500</td>\n",
       "    </tr>\n",
       "    <tr>\n",
       "      <th>ENSMUST00000212595.2</th>\n",
       "      <td>125.6950</td>\n",
       "      <td>57.5033</td>\n",
       "      <td>78.6351</td>\n",
       "      <td>42.041200</td>\n",
       "      <td>13.9363</td>\n",
       "      <td>0.00000</td>\n",
       "    </tr>\n",
       "  </tbody>\n",
       "</table>\n",
       "</div>"
      ],
      "text/plain": [
       "                           wt_1      wt_2      wt_3    mutant_1  mutant_2  \\\n",
       "target_id                                                                   \n",
       "ENSMUST00000212686.2    66.4791   91.8426  177.0430   79.453100  186.7240   \n",
       "ENSMUST00000034369.10  194.1700  152.8820  367.0170  188.466000  384.7460   \n",
       "ENSMUST00000212938.2    42.1595   29.3632   57.3888   32.338600    0.0000   \n",
       "ENSMUST00000212876.2     0.0000   18.9861    0.0000    0.018553   80.5943   \n",
       "ENSMUST00000212595.2   125.6950   57.5033   78.6351   42.041200   13.9363   \n",
       "\n",
       "                        mutant_3  \n",
       "target_id                         \n",
       "ENSMUST00000212686.2    36.12280  \n",
       "ENSMUST00000034369.10  204.43100  \n",
       "ENSMUST00000212938.2     8.82529  \n",
       "ENSMUST00000212876.2    25.10500  \n",
       "ENSMUST00000212595.2     0.00000  "
      ]
     },
     "execution_count": 15,
     "metadata": {},
     "output_type": "execute_result"
    }
   ],
   "source": [
    "df_tmp.iloc[6085:6090,] # head()だと0.0ばかりになる"
   ]
  },
  {
   "cell_type": "code",
   "execution_count": 16,
   "metadata": {},
   "outputs": [],
   "source": [
    "# リード数の合計　sum()を使って計算\n",
    "sum_count = df_tmp.sum()"
   ]
  },
  {
   "cell_type": "code",
   "execution_count": 17,
   "metadata": {},
   "outputs": [
    {
     "data": {
      "text/plain": [
       "wt_1        1.842179e+07\n",
       "wt_2        2.374667e+07\n",
       "wt_3        2.988983e+07\n",
       "mutant_1    1.600325e+07\n",
       "mutant_2    1.990828e+07\n",
       "mutant_3    1.629465e+07\n",
       "dtype: float64"
      ]
     },
     "execution_count": 17,
     "metadata": {},
     "output_type": "execute_result"
    }
   ],
   "source": [
    "sum_count"
   ]
  },
  {
   "cell_type": "code",
   "execution_count": 18,
   "metadata": {},
   "outputs": [],
   "source": [
    "# 100万リードあたりに揃える\n",
    "df_tmp = 10**6 * df_tmp / sum_count"
   ]
  },
  {
   "cell_type": "code",
   "execution_count": 19,
   "metadata": {},
   "outputs": [
    {
     "data": {
      "text/html": [
       "<div>\n",
       "<style scoped>\n",
       "    .dataframe tbody tr th:only-of-type {\n",
       "        vertical-align: middle;\n",
       "    }\n",
       "\n",
       "    .dataframe tbody tr th {\n",
       "        vertical-align: top;\n",
       "    }\n",
       "\n",
       "    .dataframe thead th {\n",
       "        text-align: right;\n",
       "    }\n",
       "</style>\n",
       "<table border=\"1\" class=\"dataframe\">\n",
       "  <thead>\n",
       "    <tr style=\"text-align: right;\">\n",
       "      <th></th>\n",
       "      <th>wt_1</th>\n",
       "      <th>wt_2</th>\n",
       "      <th>wt_3</th>\n",
       "      <th>mutant_1</th>\n",
       "      <th>mutant_2</th>\n",
       "      <th>mutant_3</th>\n",
       "    </tr>\n",
       "    <tr>\n",
       "      <th>target_id</th>\n",
       "      <th></th>\n",
       "      <th></th>\n",
       "      <th></th>\n",
       "      <th></th>\n",
       "      <th></th>\n",
       "      <th></th>\n",
       "    </tr>\n",
       "  </thead>\n",
       "  <tbody>\n",
       "    <tr>\n",
       "      <th>ENSMUST00000212686.2</th>\n",
       "      <td>3.608722</td>\n",
       "      <td>3.867599</td>\n",
       "      <td>5.923184</td>\n",
       "      <td>4.964809</td>\n",
       "      <td>9.379211</td>\n",
       "      <td>2.216850</td>\n",
       "    </tr>\n",
       "    <tr>\n",
       "      <th>ENSMUST00000034369.10</th>\n",
       "      <td>10.540237</td>\n",
       "      <td>6.438040</td>\n",
       "      <td>12.278991</td>\n",
       "      <td>11.776731</td>\n",
       "      <td>19.325924</td>\n",
       "      <td>12.545894</td>\n",
       "    </tr>\n",
       "    <tr>\n",
       "      <th>ENSMUST00000212938.2</th>\n",
       "      <td>2.288567</td>\n",
       "      <td>1.236519</td>\n",
       "      <td>1.920011</td>\n",
       "      <td>2.020752</td>\n",
       "      <td>0.000000</td>\n",
       "      <td>0.541606</td>\n",
       "    </tr>\n",
       "    <tr>\n",
       "      <th>ENSMUST00000212876.2</th>\n",
       "      <td>0.000000</td>\n",
       "      <td>0.799527</td>\n",
       "      <td>0.000000</td>\n",
       "      <td>0.001159</td>\n",
       "      <td>4.048279</td>\n",
       "      <td>1.540689</td>\n",
       "    </tr>\n",
       "    <tr>\n",
       "      <th>ENSMUST00000212595.2</th>\n",
       "      <td>6.823171</td>\n",
       "      <td>2.421531</td>\n",
       "      <td>2.630831</td>\n",
       "      <td>2.627041</td>\n",
       "      <td>0.700025</td>\n",
       "      <td>0.000000</td>\n",
       "    </tr>\n",
       "  </tbody>\n",
       "</table>\n",
       "</div>"
      ],
      "text/plain": [
       "                            wt_1      wt_2       wt_3   mutant_1   mutant_2  \\\n",
       "target_id                                                                     \n",
       "ENSMUST00000212686.2    3.608722  3.867599   5.923184   4.964809   9.379211   \n",
       "ENSMUST00000034369.10  10.540237  6.438040  12.278991  11.776731  19.325924   \n",
       "ENSMUST00000212938.2    2.288567  1.236519   1.920011   2.020752   0.000000   \n",
       "ENSMUST00000212876.2    0.000000  0.799527   0.000000   0.001159   4.048279   \n",
       "ENSMUST00000212595.2    6.823171  2.421531   2.630831   2.627041   0.700025   \n",
       "\n",
       "                        mutant_3  \n",
       "target_id                         \n",
       "ENSMUST00000212686.2    2.216850  \n",
       "ENSMUST00000034369.10  12.545894  \n",
       "ENSMUST00000212938.2    0.541606  \n",
       "ENSMUST00000212876.2    1.540689  \n",
       "ENSMUST00000212595.2    0.000000  "
      ]
     },
     "execution_count": 19,
     "metadata": {},
     "output_type": "execute_result"
    }
   ],
   "source": [
    "df_tmp.iloc[6085:6090,]"
   ]
  },
  {
   "cell_type": "markdown",
   "metadata": {},
   "source": [
    "リード数の合計が100万に揃っていることを確認します"
   ]
  },
  {
   "cell_type": "code",
   "execution_count": 20,
   "metadata": {},
   "outputs": [
    {
     "data": {
      "text/plain": [
       "wt_1        1000000.0\n",
       "wt_2        1000000.0\n",
       "wt_3        1000000.0\n",
       "mutant_1    1000000.0\n",
       "mutant_2    1000000.0\n",
       "mutant_3    1000000.0\n",
       "dtype: float64"
      ]
     },
     "execution_count": 20,
     "metadata": {},
     "output_type": "execute_result"
    }
   ],
   "source": [
    "df_tmp.sum()"
   ]
  },
  {
   "cell_type": "markdown",
   "metadata": {
    "collapsed": true
   },
   "source": [
    "`normalize_per_million_reads()` として関数化しておきます"
   ]
  },
  {
   "cell_type": "code",
   "execution_count": 21,
   "metadata": {},
   "outputs": [],
   "source": [
    "def normalize_per_million_reads(df):\n",
    "    sum_count = df.sum()\n",
    "    return 10**6 * df / sum_count"
   ]
  },
  {
   "cell_type": "markdown",
   "metadata": {},
   "source": [
    "カウントデータに適用"
   ]
  },
  {
   "cell_type": "code",
   "execution_count": 22,
   "metadata": {},
   "outputs": [],
   "source": [
    "df_count_fpm = normalize_per_million_reads(df_count)"
   ]
  },
  {
   "cell_type": "markdown",
   "metadata": {},
   "source": [
    "確認"
   ]
  },
  {
   "cell_type": "code",
   "execution_count": 23,
   "metadata": {},
   "outputs": [
    {
     "data": {
      "text/plain": [
       "wt_1        1000000.0\n",
       "wt_2        1000000.0\n",
       "wt_3        1000000.0\n",
       "mutant_1    1000000.0\n",
       "mutant_2    1000000.0\n",
       "mutant_3    1000000.0\n",
       "dtype: float64"
      ]
     },
     "execution_count": 23,
     "metadata": {},
     "output_type": "execute_result"
    }
   ],
   "source": [
    "df_count_fpm.sum()"
   ]
  },
  {
   "cell_type": "markdown",
   "metadata": {
    "collapsed": true
   },
   "source": [
    "FPM正規化を行った結果を `count_fpm.tsv` として保存します"
   ]
  },
  {
   "cell_type": "code",
   "execution_count": 24,
   "metadata": {},
   "outputs": [],
   "source": [
    "df_count_fpm.to_csv('output/count_fpm.tsv', sep='\\t')"
   ]
  },
  {
   "cell_type": "markdown",
   "metadata": {},
   "source": [
    "#### Step2. 遺伝子長による正規化 (RPKM/FPKM)\n",
    "上で求めたFPMをさらに遺伝子長で割ってFPKMを求めます<br>\n",
    "FPKM = fragments per kilobase of exon per million reads mapped <br>\n",
    "今回用いたsingle-endの場合、RPKM = reads per kilobase of exon per million reads mapped と呼ばれますが, <br>\n",
    "FPKM/RPKMはほぼ同じ意味で用いられています"
   ]
  },
  {
   "cell_type": "markdown",
   "metadata": {},
   "source": [
    "各遺伝子の長さを抽出しておきます。<br>\n",
    "kallistoでは実際の配列長（abundance.tsvの`length`列）ではなく、`eff_length`列でTPMを計算しているので、<br>\n",
    "本講義でも`eff_length`列の値を用います<br>\n",
    "参考　次世代シーケンサーデータの解析手法 第15回 RNA-seq 解析(その3）<br>\n",
    "DOI: https://doi.org/10.4109/jslab.31.25\n"
   ]
  },
  {
   "cell_type": "code",
   "execution_count": 25,
   "metadata": {},
   "outputs": [],
   "source": [
    "gene_length = df['eff_length']"
   ]
  },
  {
   "cell_type": "code",
   "execution_count": 26,
   "metadata": {},
   "outputs": [
    {
     "data": {
      "text/plain": [
       "target_id\n",
       "ENSMUST00000178537.2      6.74193\n",
       "ENSMUST00000178862.2      7.65825\n",
       "ENSMUST00000196221.2      5.34639\n",
       "ENSMUST00000179664.2      6.27959\n",
       "ENSMUST00000177564.2      8.56364\n",
       "                          ...    \n",
       "ENSMUST00000214850.2     70.74100\n",
       "ENSMUST00000116469.3    757.16000\n",
       "ENSMUST00000175694.2    141.84100\n",
       "ENSMUST00000117697.2    767.16000\n",
       "ENSMUST00000213427.2     49.17080\n",
       "Name: eff_length, Length: 117062, dtype: float64"
      ]
     },
     "execution_count": 26,
     "metadata": {},
     "output_type": "execute_result"
    }
   ],
   "source": [
    "gene_length"
   ]
  },
  {
   "cell_type": "markdown",
   "metadata": {},
   "source": [
    "下のように書くとうまくいきません（縦方向にブロードキャストされてしまうため）"
   ]
  },
  {
   "cell_type": "code",
   "execution_count": 27,
   "metadata": {},
   "outputs": [],
   "source": [
    "# df_tmp / gene_length"
   ]
  },
  {
   "cell_type": "markdown",
   "metadata": {},
   "source": [
    "一列ずつ計算することは可能です"
   ]
  },
  {
   "cell_type": "code",
   "execution_count": 28,
   "metadata": {},
   "outputs": [],
   "source": [
    "# df_tmp[\"batch_1\"] / gene_length * 10**3"
   ]
  },
  {
   "cell_type": "markdown",
   "metadata": {},
   "source": [
    "##### for ループを使う方法\n",
    "データフレームをforループで回すと、列名が取得できるのでそれを利用します"
   ]
  },
  {
   "cell_type": "code",
   "execution_count": 29,
   "metadata": {},
   "outputs": [],
   "source": [
    "# テスト用にDataFrameをコピーしてから\n",
    "df_tmp = df_count_fpm.copy()\n",
    "\n",
    "for col_name in df_tmp:\n",
    "    df_tmp[col_name] = df_tmp[col_name] / gene_length * 10**3"
   ]
  },
  {
   "cell_type": "code",
   "execution_count": 30,
   "metadata": {},
   "outputs": [
    {
     "data": {
      "text/html": [
       "<div>\n",
       "<style scoped>\n",
       "    .dataframe tbody tr th:only-of-type {\n",
       "        vertical-align: middle;\n",
       "    }\n",
       "\n",
       "    .dataframe tbody tr th {\n",
       "        vertical-align: top;\n",
       "    }\n",
       "\n",
       "    .dataframe thead th {\n",
       "        text-align: right;\n",
       "    }\n",
       "</style>\n",
       "<table border=\"1\" class=\"dataframe\">\n",
       "  <thead>\n",
       "    <tr style=\"text-align: right;\">\n",
       "      <th></th>\n",
       "      <th>wt_1</th>\n",
       "      <th>wt_2</th>\n",
       "      <th>wt_3</th>\n",
       "      <th>mutant_1</th>\n",
       "      <th>mutant_2</th>\n",
       "      <th>mutant_3</th>\n",
       "    </tr>\n",
       "    <tr>\n",
       "      <th>target_id</th>\n",
       "      <th></th>\n",
       "      <th></th>\n",
       "      <th></th>\n",
       "      <th></th>\n",
       "      <th></th>\n",
       "      <th></th>\n",
       "    </tr>\n",
       "  </thead>\n",
       "  <tbody>\n",
       "    <tr>\n",
       "      <th>ENSMUST00000212686.2</th>\n",
       "      <td>9.442812</td>\n",
       "      <td>10.120208</td>\n",
       "      <td>15.498983</td>\n",
       "      <td>12.991238</td>\n",
       "      <td>24.542243</td>\n",
       "      <td>5.800751</td>\n",
       "    </tr>\n",
       "    <tr>\n",
       "      <th>ENSMUST00000034369.10</th>\n",
       "      <td>9.252640</td>\n",
       "      <td>5.651568</td>\n",
       "      <td>10.778987</td>\n",
       "      <td>10.338083</td>\n",
       "      <td>16.965065</td>\n",
       "      <td>11.013286</td>\n",
       "    </tr>\n",
       "    <tr>\n",
       "      <th>ENSMUST00000212938.2</th>\n",
       "      <td>4.826572</td>\n",
       "      <td>2.607809</td>\n",
       "      <td>4.049289</td>\n",
       "      <td>4.261751</td>\n",
       "      <td>0.000000</td>\n",
       "      <td>1.142244</td>\n",
       "    </tr>\n",
       "    <tr>\n",
       "      <th>ENSMUST00000212876.2</th>\n",
       "      <td>0.000000</td>\n",
       "      <td>1.002969</td>\n",
       "      <td>0.000000</td>\n",
       "      <td>0.001454</td>\n",
       "      <td>5.078378</td>\n",
       "      <td>1.932723</td>\n",
       "    </tr>\n",
       "    <tr>\n",
       "      <th>ENSMUST00000212595.2</th>\n",
       "      <td>9.396237</td>\n",
       "      <td>3.334708</td>\n",
       "      <td>3.622936</td>\n",
       "      <td>3.617716</td>\n",
       "      <td>0.964010</td>\n",
       "      <td>0.000000</td>\n",
       "    </tr>\n",
       "  </tbody>\n",
       "</table>\n",
       "</div>"
      ],
      "text/plain": [
       "                           wt_1       wt_2       wt_3   mutant_1   mutant_2  \\\n",
       "target_id                                                                     \n",
       "ENSMUST00000212686.2   9.442812  10.120208  15.498983  12.991238  24.542243   \n",
       "ENSMUST00000034369.10  9.252640   5.651568  10.778987  10.338083  16.965065   \n",
       "ENSMUST00000212938.2   4.826572   2.607809   4.049289   4.261751   0.000000   \n",
       "ENSMUST00000212876.2   0.000000   1.002969   0.000000   0.001454   5.078378   \n",
       "ENSMUST00000212595.2   9.396237   3.334708   3.622936   3.617716   0.964010   \n",
       "\n",
       "                        mutant_3  \n",
       "target_id                         \n",
       "ENSMUST00000212686.2    5.800751  \n",
       "ENSMUST00000034369.10  11.013286  \n",
       "ENSMUST00000212938.2    1.142244  \n",
       "ENSMUST00000212876.2    1.932723  \n",
       "ENSMUST00000212595.2    0.000000  "
      ]
     },
     "execution_count": 30,
     "metadata": {},
     "output_type": "execute_result"
    }
   ],
   "source": [
    "df_tmp.iloc[6085:6090,]"
   ]
  },
  {
   "cell_type": "markdown",
   "metadata": {},
   "source": [
    "以下では`.items()`を利用する方法を紹介します。"
   ]
  },
  {
   "cell_type": "code",
   "execution_count": 31,
   "metadata": {},
   "outputs": [],
   "source": [
    "df_tmp = df_count_fpm.copy()\n",
    "\n",
    "for col_name, col in df_tmp.items():\n",
    "    df_tmp[col_name] = col / gene_length * 10**3"
   ]
  },
  {
   "cell_type": "code",
   "execution_count": 32,
   "metadata": {},
   "outputs": [
    {
     "data": {
      "text/html": [
       "<div>\n",
       "<style scoped>\n",
       "    .dataframe tbody tr th:only-of-type {\n",
       "        vertical-align: middle;\n",
       "    }\n",
       "\n",
       "    .dataframe tbody tr th {\n",
       "        vertical-align: top;\n",
       "    }\n",
       "\n",
       "    .dataframe thead th {\n",
       "        text-align: right;\n",
       "    }\n",
       "</style>\n",
       "<table border=\"1\" class=\"dataframe\">\n",
       "  <thead>\n",
       "    <tr style=\"text-align: right;\">\n",
       "      <th></th>\n",
       "      <th>wt_1</th>\n",
       "      <th>wt_2</th>\n",
       "      <th>wt_3</th>\n",
       "      <th>mutant_1</th>\n",
       "      <th>mutant_2</th>\n",
       "      <th>mutant_3</th>\n",
       "    </tr>\n",
       "    <tr>\n",
       "      <th>target_id</th>\n",
       "      <th></th>\n",
       "      <th></th>\n",
       "      <th></th>\n",
       "      <th></th>\n",
       "      <th></th>\n",
       "      <th></th>\n",
       "    </tr>\n",
       "  </thead>\n",
       "  <tbody>\n",
       "    <tr>\n",
       "      <th>ENSMUST00000212686.2</th>\n",
       "      <td>9.442812</td>\n",
       "      <td>10.120208</td>\n",
       "      <td>15.498983</td>\n",
       "      <td>12.991238</td>\n",
       "      <td>24.542243</td>\n",
       "      <td>5.800751</td>\n",
       "    </tr>\n",
       "    <tr>\n",
       "      <th>ENSMUST00000034369.10</th>\n",
       "      <td>9.252640</td>\n",
       "      <td>5.651568</td>\n",
       "      <td>10.778987</td>\n",
       "      <td>10.338083</td>\n",
       "      <td>16.965065</td>\n",
       "      <td>11.013286</td>\n",
       "    </tr>\n",
       "    <tr>\n",
       "      <th>ENSMUST00000212938.2</th>\n",
       "      <td>4.826572</td>\n",
       "      <td>2.607809</td>\n",
       "      <td>4.049289</td>\n",
       "      <td>4.261751</td>\n",
       "      <td>0.000000</td>\n",
       "      <td>1.142244</td>\n",
       "    </tr>\n",
       "    <tr>\n",
       "      <th>ENSMUST00000212876.2</th>\n",
       "      <td>0.000000</td>\n",
       "      <td>1.002969</td>\n",
       "      <td>0.000000</td>\n",
       "      <td>0.001454</td>\n",
       "      <td>5.078378</td>\n",
       "      <td>1.932723</td>\n",
       "    </tr>\n",
       "    <tr>\n",
       "      <th>ENSMUST00000212595.2</th>\n",
       "      <td>9.396237</td>\n",
       "      <td>3.334708</td>\n",
       "      <td>3.622936</td>\n",
       "      <td>3.617716</td>\n",
       "      <td>0.964010</td>\n",
       "      <td>0.000000</td>\n",
       "    </tr>\n",
       "  </tbody>\n",
       "</table>\n",
       "</div>"
      ],
      "text/plain": [
       "                           wt_1       wt_2       wt_3   mutant_1   mutant_2  \\\n",
       "target_id                                                                     \n",
       "ENSMUST00000212686.2   9.442812  10.120208  15.498983  12.991238  24.542243   \n",
       "ENSMUST00000034369.10  9.252640   5.651568  10.778987  10.338083  16.965065   \n",
       "ENSMUST00000212938.2   4.826572   2.607809   4.049289   4.261751   0.000000   \n",
       "ENSMUST00000212876.2   0.000000   1.002969   0.000000   0.001454   5.078378   \n",
       "ENSMUST00000212595.2   9.396237   3.334708   3.622936   3.617716   0.964010   \n",
       "\n",
       "                        mutant_3  \n",
       "target_id                         \n",
       "ENSMUST00000212686.2    5.800751  \n",
       "ENSMUST00000034369.10  11.013286  \n",
       "ENSMUST00000212938.2    1.142244  \n",
       "ENSMUST00000212876.2    1.932723  \n",
       "ENSMUST00000212595.2    0.000000  "
      ]
     },
     "execution_count": 32,
     "metadata": {},
     "output_type": "execute_result"
    }
   ],
   "source": [
    "df_tmp.iloc[6085:6090,]"
   ]
  },
  {
   "cell_type": "markdown",
   "metadata": {},
   "source": [
    "##### データフレームを転置してから計算する方法"
   ]
  },
  {
   "cell_type": "code",
   "execution_count": 33,
   "metadata": {},
   "outputs": [],
   "source": [
    "# テスト用にFPMをコピー\n",
    "df_tmp = df_count_fpm.copy()\n",
    "\n",
    "# df_tmpを転置してFPMを遺伝子長で割り, 1000をかける\n",
    "df_tmp = df_tmp.T / gene_length * 10**3\n",
    "\n",
    "# 戻す（もう一度転置する）\n",
    "df_tmp = df_tmp.T"
   ]
  },
  {
   "cell_type": "code",
   "execution_count": 34,
   "metadata": {},
   "outputs": [
    {
     "data": {
      "text/html": [
       "<div>\n",
       "<style scoped>\n",
       "    .dataframe tbody tr th:only-of-type {\n",
       "        vertical-align: middle;\n",
       "    }\n",
       "\n",
       "    .dataframe tbody tr th {\n",
       "        vertical-align: top;\n",
       "    }\n",
       "\n",
       "    .dataframe thead th {\n",
       "        text-align: right;\n",
       "    }\n",
       "</style>\n",
       "<table border=\"1\" class=\"dataframe\">\n",
       "  <thead>\n",
       "    <tr style=\"text-align: right;\">\n",
       "      <th></th>\n",
       "      <th>wt_1</th>\n",
       "      <th>wt_2</th>\n",
       "      <th>wt_3</th>\n",
       "      <th>mutant_1</th>\n",
       "      <th>mutant_2</th>\n",
       "      <th>mutant_3</th>\n",
       "    </tr>\n",
       "    <tr>\n",
       "      <th>target_id</th>\n",
       "      <th></th>\n",
       "      <th></th>\n",
       "      <th></th>\n",
       "      <th></th>\n",
       "      <th></th>\n",
       "      <th></th>\n",
       "    </tr>\n",
       "  </thead>\n",
       "  <tbody>\n",
       "    <tr>\n",
       "      <th>ENSMUST00000212686.2</th>\n",
       "      <td>9.442812</td>\n",
       "      <td>10.120208</td>\n",
       "      <td>15.498983</td>\n",
       "      <td>12.991238</td>\n",
       "      <td>24.542243</td>\n",
       "      <td>5.800751</td>\n",
       "    </tr>\n",
       "    <tr>\n",
       "      <th>ENSMUST00000034369.10</th>\n",
       "      <td>9.252640</td>\n",
       "      <td>5.651568</td>\n",
       "      <td>10.778987</td>\n",
       "      <td>10.338083</td>\n",
       "      <td>16.965065</td>\n",
       "      <td>11.013286</td>\n",
       "    </tr>\n",
       "    <tr>\n",
       "      <th>ENSMUST00000212938.2</th>\n",
       "      <td>4.826572</td>\n",
       "      <td>2.607809</td>\n",
       "      <td>4.049289</td>\n",
       "      <td>4.261751</td>\n",
       "      <td>0.000000</td>\n",
       "      <td>1.142244</td>\n",
       "    </tr>\n",
       "    <tr>\n",
       "      <th>ENSMUST00000212876.2</th>\n",
       "      <td>0.000000</td>\n",
       "      <td>1.002969</td>\n",
       "      <td>0.000000</td>\n",
       "      <td>0.001454</td>\n",
       "      <td>5.078378</td>\n",
       "      <td>1.932723</td>\n",
       "    </tr>\n",
       "    <tr>\n",
       "      <th>ENSMUST00000212595.2</th>\n",
       "      <td>9.396237</td>\n",
       "      <td>3.334708</td>\n",
       "      <td>3.622936</td>\n",
       "      <td>3.617716</td>\n",
       "      <td>0.964010</td>\n",
       "      <td>0.000000</td>\n",
       "    </tr>\n",
       "  </tbody>\n",
       "</table>\n",
       "</div>"
      ],
      "text/plain": [
       "                           wt_1       wt_2       wt_3   mutant_1   mutant_2  \\\n",
       "target_id                                                                     \n",
       "ENSMUST00000212686.2   9.442812  10.120208  15.498983  12.991238  24.542243   \n",
       "ENSMUST00000034369.10  9.252640   5.651568  10.778987  10.338083  16.965065   \n",
       "ENSMUST00000212938.2   4.826572   2.607809   4.049289   4.261751   0.000000   \n",
       "ENSMUST00000212876.2   0.000000   1.002969   0.000000   0.001454   5.078378   \n",
       "ENSMUST00000212595.2   9.396237   3.334708   3.622936   3.617716   0.964010   \n",
       "\n",
       "                        mutant_3  \n",
       "target_id                         \n",
       "ENSMUST00000212686.2    5.800751  \n",
       "ENSMUST00000034369.10  11.013286  \n",
       "ENSMUST00000212938.2    1.142244  \n",
       "ENSMUST00000212876.2    1.932723  \n",
       "ENSMUST00000212595.2    0.000000  "
      ]
     },
     "execution_count": 34,
     "metadata": {},
     "output_type": "execute_result"
    }
   ],
   "source": [
    "df_tmp.iloc[6085:6090,]"
   ]
  },
  {
   "cell_type": "markdown",
   "metadata": {},
   "source": [
    "##### applyを使い各列に関数を適用する方法\n",
    "`divide_by_length()`という関数を作り、`apply()` で適用します"
   ]
  },
  {
   "cell_type": "code",
   "execution_count": 35,
   "metadata": {},
   "outputs": [],
   "source": [
    "# 列を入力とし、各要素を遺伝子長で割る処理を行う関数を定義\n",
    "def divide_by_length(S):\n",
    "    return S / gene_length * 10**3"
   ]
  },
  {
   "cell_type": "code",
   "execution_count": 36,
   "metadata": {},
   "outputs": [
    {
     "data": {
      "text/html": [
       "<div>\n",
       "<style scoped>\n",
       "    .dataframe tbody tr th:only-of-type {\n",
       "        vertical-align: middle;\n",
       "    }\n",
       "\n",
       "    .dataframe tbody tr th {\n",
       "        vertical-align: top;\n",
       "    }\n",
       "\n",
       "    .dataframe thead th {\n",
       "        text-align: right;\n",
       "    }\n",
       "</style>\n",
       "<table border=\"1\" class=\"dataframe\">\n",
       "  <thead>\n",
       "    <tr style=\"text-align: right;\">\n",
       "      <th></th>\n",
       "      <th>wt_1</th>\n",
       "      <th>wt_2</th>\n",
       "      <th>wt_3</th>\n",
       "      <th>mutant_1</th>\n",
       "      <th>mutant_2</th>\n",
       "      <th>mutant_3</th>\n",
       "    </tr>\n",
       "    <tr>\n",
       "      <th>target_id</th>\n",
       "      <th></th>\n",
       "      <th></th>\n",
       "      <th></th>\n",
       "      <th></th>\n",
       "      <th></th>\n",
       "      <th></th>\n",
       "    </tr>\n",
       "  </thead>\n",
       "  <tbody>\n",
       "    <tr>\n",
       "      <th>ENSMUST00000212686.2</th>\n",
       "      <td>9.442812</td>\n",
       "      <td>10.120208</td>\n",
       "      <td>15.498983</td>\n",
       "      <td>12.991238</td>\n",
       "      <td>24.542243</td>\n",
       "      <td>5.800751</td>\n",
       "    </tr>\n",
       "    <tr>\n",
       "      <th>ENSMUST00000034369.10</th>\n",
       "      <td>9.252640</td>\n",
       "      <td>5.651568</td>\n",
       "      <td>10.778987</td>\n",
       "      <td>10.338083</td>\n",
       "      <td>16.965065</td>\n",
       "      <td>11.013286</td>\n",
       "    </tr>\n",
       "    <tr>\n",
       "      <th>ENSMUST00000212938.2</th>\n",
       "      <td>4.826572</td>\n",
       "      <td>2.607809</td>\n",
       "      <td>4.049289</td>\n",
       "      <td>4.261751</td>\n",
       "      <td>0.000000</td>\n",
       "      <td>1.142244</td>\n",
       "    </tr>\n",
       "    <tr>\n",
       "      <th>ENSMUST00000212876.2</th>\n",
       "      <td>0.000000</td>\n",
       "      <td>1.002969</td>\n",
       "      <td>0.000000</td>\n",
       "      <td>0.001454</td>\n",
       "      <td>5.078378</td>\n",
       "      <td>1.932723</td>\n",
       "    </tr>\n",
       "    <tr>\n",
       "      <th>ENSMUST00000212595.2</th>\n",
       "      <td>9.396237</td>\n",
       "      <td>3.334708</td>\n",
       "      <td>3.622936</td>\n",
       "      <td>3.617716</td>\n",
       "      <td>0.964010</td>\n",
       "      <td>0.000000</td>\n",
       "    </tr>\n",
       "  </tbody>\n",
       "</table>\n",
       "</div>"
      ],
      "text/plain": [
       "                           wt_1       wt_2       wt_3   mutant_1   mutant_2  \\\n",
       "target_id                                                                     \n",
       "ENSMUST00000212686.2   9.442812  10.120208  15.498983  12.991238  24.542243   \n",
       "ENSMUST00000034369.10  9.252640   5.651568  10.778987  10.338083  16.965065   \n",
       "ENSMUST00000212938.2   4.826572   2.607809   4.049289   4.261751   0.000000   \n",
       "ENSMUST00000212876.2   0.000000   1.002969   0.000000   0.001454   5.078378   \n",
       "ENSMUST00000212595.2   9.396237   3.334708   3.622936   3.617716   0.964010   \n",
       "\n",
       "                        mutant_3  \n",
       "target_id                         \n",
       "ENSMUST00000212686.2    5.800751  \n",
       "ENSMUST00000034369.10  11.013286  \n",
       "ENSMUST00000212938.2    1.142244  \n",
       "ENSMUST00000212876.2    1.932723  \n",
       "ENSMUST00000212595.2    0.000000  "
      ]
     },
     "execution_count": 36,
     "metadata": {},
     "output_type": "execute_result"
    }
   ],
   "source": [
    "# テスト用にFPMをコピー\n",
    "df_tmp = df_count_fpm.copy()\n",
    "\n",
    "# applyでdivide_by_length()関数を適用して先頭だけ確認\n",
    "df_tmp.apply(divide_by_length).iloc[6085:6090,]"
   ]
  },
  {
   "cell_type": "markdown",
   "metadata": {},
   "source": [
    "`pandas.DataFrame`メソッドの `divide()` を使用する方法もあります"
   ]
  },
  {
   "cell_type": "code",
   "execution_count": 37,
   "metadata": {},
   "outputs": [
    {
     "data": {
      "text/html": [
       "<div>\n",
       "<style scoped>\n",
       "    .dataframe tbody tr th:only-of-type {\n",
       "        vertical-align: middle;\n",
       "    }\n",
       "\n",
       "    .dataframe tbody tr th {\n",
       "        vertical-align: top;\n",
       "    }\n",
       "\n",
       "    .dataframe thead th {\n",
       "        text-align: right;\n",
       "    }\n",
       "</style>\n",
       "<table border=\"1\" class=\"dataframe\">\n",
       "  <thead>\n",
       "    <tr style=\"text-align: right;\">\n",
       "      <th></th>\n",
       "      <th>wt_1</th>\n",
       "      <th>wt_2</th>\n",
       "      <th>wt_3</th>\n",
       "      <th>mutant_1</th>\n",
       "      <th>mutant_2</th>\n",
       "      <th>mutant_3</th>\n",
       "    </tr>\n",
       "    <tr>\n",
       "      <th>target_id</th>\n",
       "      <th></th>\n",
       "      <th></th>\n",
       "      <th></th>\n",
       "      <th></th>\n",
       "      <th></th>\n",
       "      <th></th>\n",
       "    </tr>\n",
       "  </thead>\n",
       "  <tbody>\n",
       "    <tr>\n",
       "      <th>ENSMUST00000212686.2</th>\n",
       "      <td>9.442812</td>\n",
       "      <td>10.120208</td>\n",
       "      <td>15.498983</td>\n",
       "      <td>12.991238</td>\n",
       "      <td>24.542243</td>\n",
       "      <td>5.800751</td>\n",
       "    </tr>\n",
       "    <tr>\n",
       "      <th>ENSMUST00000034369.10</th>\n",
       "      <td>9.252640</td>\n",
       "      <td>5.651568</td>\n",
       "      <td>10.778987</td>\n",
       "      <td>10.338083</td>\n",
       "      <td>16.965065</td>\n",
       "      <td>11.013286</td>\n",
       "    </tr>\n",
       "    <tr>\n",
       "      <th>ENSMUST00000212938.2</th>\n",
       "      <td>4.826572</td>\n",
       "      <td>2.607809</td>\n",
       "      <td>4.049289</td>\n",
       "      <td>4.261751</td>\n",
       "      <td>0.000000</td>\n",
       "      <td>1.142244</td>\n",
       "    </tr>\n",
       "    <tr>\n",
       "      <th>ENSMUST00000212876.2</th>\n",
       "      <td>0.000000</td>\n",
       "      <td>1.002969</td>\n",
       "      <td>0.000000</td>\n",
       "      <td>0.001454</td>\n",
       "      <td>5.078378</td>\n",
       "      <td>1.932723</td>\n",
       "    </tr>\n",
       "    <tr>\n",
       "      <th>ENSMUST00000212595.2</th>\n",
       "      <td>9.396237</td>\n",
       "      <td>3.334708</td>\n",
       "      <td>3.622936</td>\n",
       "      <td>3.617716</td>\n",
       "      <td>0.964010</td>\n",
       "      <td>0.000000</td>\n",
       "    </tr>\n",
       "  </tbody>\n",
       "</table>\n",
       "</div>"
      ],
      "text/plain": [
       "                           wt_1       wt_2       wt_3   mutant_1   mutant_2  \\\n",
       "target_id                                                                     \n",
       "ENSMUST00000212686.2   9.442812  10.120208  15.498983  12.991238  24.542243   \n",
       "ENSMUST00000034369.10  9.252640   5.651568  10.778987  10.338083  16.965065   \n",
       "ENSMUST00000212938.2   4.826572   2.607809   4.049289   4.261751   0.000000   \n",
       "ENSMUST00000212876.2   0.000000   1.002969   0.000000   0.001454   5.078378   \n",
       "ENSMUST00000212595.2   9.396237   3.334708   3.622936   3.617716   0.964010   \n",
       "\n",
       "                        mutant_3  \n",
       "target_id                         \n",
       "ENSMUST00000212686.2    5.800751  \n",
       "ENSMUST00000034369.10  11.013286  \n",
       "ENSMUST00000212938.2    1.142244  \n",
       "ENSMUST00000212876.2    1.932723  \n",
       "ENSMUST00000212595.2    0.000000  "
      ]
     },
     "execution_count": 37,
     "metadata": {},
     "output_type": "execute_result"
    }
   ],
   "source": [
    "# テスト用にFPMをコピー\n",
    "df_tmp = df_count_fpm.copy()\n",
    "\n",
    "df_tmp = df_tmp.divide(gene_length, axis='index') * 10**3\n",
    "df_tmp.iloc[6085:6090,]"
   ]
  },
  {
   "cell_type": "markdown",
   "metadata": {
    "collapsed": true
   },
   "source": [
    "データフレームを転置させて計算する方法を `normalize_per_kilobase()` として関数化しておきます"
   ]
  },
  {
   "cell_type": "code",
   "execution_count": 38,
   "metadata": {},
   "outputs": [],
   "source": [
    "def normalize_per_kilobase(df, gene_length):\n",
    "    df_tmp = df.copy()\n",
    "    df_tmp = (df.T * 10**3 / gene_length).T\n",
    "    return df_tmp"
   ]
  },
  {
   "cell_type": "code",
   "execution_count": 39,
   "metadata": {},
   "outputs": [],
   "source": [
    "df_count_fpkm = normalize_per_kilobase(df_count_fpm, gene_length)"
   ]
  },
  {
   "cell_type": "code",
   "execution_count": 40,
   "metadata": {},
   "outputs": [
    {
     "data": {
      "text/html": [
       "<div>\n",
       "<style scoped>\n",
       "    .dataframe tbody tr th:only-of-type {\n",
       "        vertical-align: middle;\n",
       "    }\n",
       "\n",
       "    .dataframe tbody tr th {\n",
       "        vertical-align: top;\n",
       "    }\n",
       "\n",
       "    .dataframe thead th {\n",
       "        text-align: right;\n",
       "    }\n",
       "</style>\n",
       "<table border=\"1\" class=\"dataframe\">\n",
       "  <thead>\n",
       "    <tr style=\"text-align: right;\">\n",
       "      <th></th>\n",
       "      <th>wt_1</th>\n",
       "      <th>wt_2</th>\n",
       "      <th>wt_3</th>\n",
       "      <th>mutant_1</th>\n",
       "      <th>mutant_2</th>\n",
       "      <th>mutant_3</th>\n",
       "    </tr>\n",
       "    <tr>\n",
       "      <th>target_id</th>\n",
       "      <th></th>\n",
       "      <th></th>\n",
       "      <th></th>\n",
       "      <th></th>\n",
       "      <th></th>\n",
       "      <th></th>\n",
       "    </tr>\n",
       "  </thead>\n",
       "  <tbody>\n",
       "    <tr>\n",
       "      <th>ENSMUST00000212686.2</th>\n",
       "      <td>9.442812</td>\n",
       "      <td>10.120208</td>\n",
       "      <td>15.498983</td>\n",
       "      <td>12.991238</td>\n",
       "      <td>24.542243</td>\n",
       "      <td>5.800751</td>\n",
       "    </tr>\n",
       "    <tr>\n",
       "      <th>ENSMUST00000034369.10</th>\n",
       "      <td>9.252640</td>\n",
       "      <td>5.651568</td>\n",
       "      <td>10.778987</td>\n",
       "      <td>10.338083</td>\n",
       "      <td>16.965065</td>\n",
       "      <td>11.013286</td>\n",
       "    </tr>\n",
       "    <tr>\n",
       "      <th>ENSMUST00000212938.2</th>\n",
       "      <td>4.826572</td>\n",
       "      <td>2.607809</td>\n",
       "      <td>4.049289</td>\n",
       "      <td>4.261751</td>\n",
       "      <td>0.000000</td>\n",
       "      <td>1.142244</td>\n",
       "    </tr>\n",
       "    <tr>\n",
       "      <th>ENSMUST00000212876.2</th>\n",
       "      <td>0.000000</td>\n",
       "      <td>1.002969</td>\n",
       "      <td>0.000000</td>\n",
       "      <td>0.001454</td>\n",
       "      <td>5.078378</td>\n",
       "      <td>1.932723</td>\n",
       "    </tr>\n",
       "    <tr>\n",
       "      <th>ENSMUST00000212595.2</th>\n",
       "      <td>9.396237</td>\n",
       "      <td>3.334708</td>\n",
       "      <td>3.622936</td>\n",
       "      <td>3.617716</td>\n",
       "      <td>0.964010</td>\n",
       "      <td>0.000000</td>\n",
       "    </tr>\n",
       "  </tbody>\n",
       "</table>\n",
       "</div>"
      ],
      "text/plain": [
       "                           wt_1       wt_2       wt_3   mutant_1   mutant_2  \\\n",
       "target_id                                                                     \n",
       "ENSMUST00000212686.2   9.442812  10.120208  15.498983  12.991238  24.542243   \n",
       "ENSMUST00000034369.10  9.252640   5.651568  10.778987  10.338083  16.965065   \n",
       "ENSMUST00000212938.2   4.826572   2.607809   4.049289   4.261751   0.000000   \n",
       "ENSMUST00000212876.2   0.000000   1.002969   0.000000   0.001454   5.078378   \n",
       "ENSMUST00000212595.2   9.396237   3.334708   3.622936   3.617716   0.964010   \n",
       "\n",
       "                        mutant_3  \n",
       "target_id                         \n",
       "ENSMUST00000212686.2    5.800751  \n",
       "ENSMUST00000034369.10  11.013286  \n",
       "ENSMUST00000212938.2    1.142244  \n",
       "ENSMUST00000212876.2    1.932723  \n",
       "ENSMUST00000212595.2    0.000000  "
      ]
     },
     "execution_count": 40,
     "metadata": {},
     "output_type": "execute_result"
    }
   ],
   "source": [
    "df_count_fpkm.iloc[6085:6090,]"
   ]
  },
  {
   "cell_type": "code",
   "execution_count": 41,
   "metadata": {},
   "outputs": [],
   "source": [
    "# 保存する\n",
    "df_count_fpkm.to_csv('output/count_fpkm.tsv', sep='\\t')"
   ]
  },
  {
   "cell_type": "markdown",
   "metadata": {},
   "source": [
    "#### Step3. TPM 正規化\n",
    "TPM = transcripts per million (transcripts per kilobase million)<br> \n",
    "TPM の説明については以下のページが詳しいです https://bi.biopapyrus.jp/ <br> \n",
    "\n",
    "FPKM/RPKM のときとは逆に、長さ1,000bpあたりのリード数を求めてから、総リード数を100万に揃えます"
   ]
  },
  {
   "cell_type": "code",
   "execution_count": 42,
   "metadata": {},
   "outputs": [],
   "source": [
    "# テスト用にカウントデータをコピー\n",
    "df_tmp = df_count.copy()"
   ]
  },
  {
   "cell_type": "code",
   "execution_count": 43,
   "metadata": {},
   "outputs": [],
   "source": [
    "df_tmp = normalize_per_kilobase(df_tmp, gene_length) #長さ1,000bpあたりのリード数\n",
    "df_tmp = normalize_per_million_reads(df_tmp) #総リード数を100万に揃える"
   ]
  },
  {
   "cell_type": "code",
   "execution_count": 44,
   "metadata": {},
   "outputs": [
    {
     "data": {
      "text/html": [
       "<div>\n",
       "<style scoped>\n",
       "    .dataframe tbody tr th:only-of-type {\n",
       "        vertical-align: middle;\n",
       "    }\n",
       "\n",
       "    .dataframe tbody tr th {\n",
       "        vertical-align: top;\n",
       "    }\n",
       "\n",
       "    .dataframe thead th {\n",
       "        text-align: right;\n",
       "    }\n",
       "</style>\n",
       "<table border=\"1\" class=\"dataframe\">\n",
       "  <thead>\n",
       "    <tr style=\"text-align: right;\">\n",
       "      <th></th>\n",
       "      <th>wt_1</th>\n",
       "      <th>wt_2</th>\n",
       "      <th>wt_3</th>\n",
       "      <th>mutant_1</th>\n",
       "      <th>mutant_2</th>\n",
       "      <th>mutant_3</th>\n",
       "    </tr>\n",
       "    <tr>\n",
       "      <th>target_id</th>\n",
       "      <th></th>\n",
       "      <th></th>\n",
       "      <th></th>\n",
       "      <th></th>\n",
       "      <th></th>\n",
       "      <th></th>\n",
       "    </tr>\n",
       "  </thead>\n",
       "  <tbody>\n",
       "    <tr>\n",
       "      <th>ENSMUST00000212686.2</th>\n",
       "      <td>13.375947</td>\n",
       "      <td>14.821739</td>\n",
       "      <td>22.403762</td>\n",
       "      <td>18.415533</td>\n",
       "      <td>36.517768</td>\n",
       "      <td>8.398009</td>\n",
       "    </tr>\n",
       "    <tr>\n",
       "      <th>ENSMUST00000034369.10</th>\n",
       "      <td>13.106564</td>\n",
       "      <td>8.277109</td>\n",
       "      <td>15.581013</td>\n",
       "      <td>14.654594</td>\n",
       "      <td>25.243265</td>\n",
       "      <td>15.944429</td>\n",
       "    </tr>\n",
       "    <tr>\n",
       "      <th>ENSMUST00000212938.2</th>\n",
       "      <td>6.836943</td>\n",
       "      <td>3.819315</td>\n",
       "      <td>5.853242</td>\n",
       "      <td>6.041180</td>\n",
       "      <td>0.000000</td>\n",
       "      <td>1.653678</td>\n",
       "    </tr>\n",
       "    <tr>\n",
       "      <th>ENSMUST00000212876.2</th>\n",
       "      <td>0.000000</td>\n",
       "      <td>1.468917</td>\n",
       "      <td>0.000000</td>\n",
       "      <td>0.002062</td>\n",
       "      <td>7.556400</td>\n",
       "      <td>2.798090</td>\n",
       "    </tr>\n",
       "    <tr>\n",
       "      <th>ENSMUST00000212595.2</th>\n",
       "      <td>13.309972</td>\n",
       "      <td>4.883908</td>\n",
       "      <td>5.236949</td>\n",
       "      <td>5.128239</td>\n",
       "      <td>1.434403</td>\n",
       "      <td>0.000000</td>\n",
       "    </tr>\n",
       "  </tbody>\n",
       "</table>\n",
       "</div>"
      ],
      "text/plain": [
       "                            wt_1       wt_2       wt_3   mutant_1   mutant_2  \\\n",
       "target_id                                                                      \n",
       "ENSMUST00000212686.2   13.375947  14.821739  22.403762  18.415533  36.517768   \n",
       "ENSMUST00000034369.10  13.106564   8.277109  15.581013  14.654594  25.243265   \n",
       "ENSMUST00000212938.2    6.836943   3.819315   5.853242   6.041180   0.000000   \n",
       "ENSMUST00000212876.2    0.000000   1.468917   0.000000   0.002062   7.556400   \n",
       "ENSMUST00000212595.2   13.309972   4.883908   5.236949   5.128239   1.434403   \n",
       "\n",
       "                        mutant_3  \n",
       "target_id                         \n",
       "ENSMUST00000212686.2    8.398009  \n",
       "ENSMUST00000034369.10  15.944429  \n",
       "ENSMUST00000212938.2    1.653678  \n",
       "ENSMUST00000212876.2    2.798090  \n",
       "ENSMUST00000212595.2    0.000000  "
      ]
     },
     "execution_count": 44,
     "metadata": {},
     "output_type": "execute_result"
    }
   ],
   "source": [
    "df_tmp.iloc[6085:6090,]"
   ]
  },
  {
   "cell_type": "markdown",
   "metadata": {},
   "source": [
    "RPKM/FPKMと違い、合計が100万となっています"
   ]
  },
  {
   "cell_type": "code",
   "execution_count": 45,
   "metadata": {},
   "outputs": [
    {
     "data": {
      "text/plain": [
       "wt_1        1000000.0\n",
       "wt_2        1000000.0\n",
       "wt_3        1000000.0\n",
       "mutant_1    1000000.0\n",
       "mutant_2    1000000.0\n",
       "mutant_3    1000000.0\n",
       "dtype: float64"
      ]
     },
     "execution_count": 45,
     "metadata": {},
     "output_type": "execute_result"
    }
   ],
   "source": [
    "df_tmp.sum()"
   ]
  },
  {
   "cell_type": "markdown",
   "metadata": {
    "collapsed": true
   },
   "source": [
    "`normalize_tpm()` として関数化しておきます"
   ]
  },
  {
   "cell_type": "code",
   "execution_count": 46,
   "metadata": {},
   "outputs": [],
   "source": [
    "def normalize_tpm(df, gene_length):\n",
    "    df_tmp = df.copy()\n",
    "    df_tmp = normalize_per_kilobase(df_tmp, gene_length)\n",
    "    df_tmp = normalize_per_million_reads(df_tmp)\n",
    "    return df_tmp"
   ]
  },
  {
   "cell_type": "code",
   "execution_count": 47,
   "metadata": {},
   "outputs": [],
   "source": [
    "df_count_tpm = normalize_tpm(df_count, gene_length)"
   ]
  },
  {
   "cell_type": "code",
   "execution_count": 48,
   "metadata": {},
   "outputs": [
    {
     "data": {
      "text/plain": [
       "wt_1        1000000.0\n",
       "wt_2        1000000.0\n",
       "wt_3        1000000.0\n",
       "mutant_1    1000000.0\n",
       "mutant_2    1000000.0\n",
       "mutant_3    1000000.0\n",
       "dtype: float64"
      ]
     },
     "execution_count": 48,
     "metadata": {},
     "output_type": "execute_result"
    }
   ],
   "source": [
    "df_count_tpm.sum() #  確認"
   ]
  },
  {
   "cell_type": "code",
   "execution_count": 49,
   "metadata": {},
   "outputs": [],
   "source": [
    "# 保存\n",
    "df_count_tpm.to_csv('output/count_tpm.tsv', sep='\\t')"
   ]
  },
  {
   "cell_type": "markdown",
   "metadata": {},
   "source": [
    "* 参考）numpyを使った高速バージョンとの比較 <br>\n",
    "\n",
    "`%%timeit`はコードの時間計測を何回か試し, その中で最速の時間と平均値を返すマジックコマンドです"
   ]
  },
  {
   "cell_type": "code",
   "execution_count": 50,
   "metadata": {},
   "outputs": [
    {
     "name": "stdout",
     "output_type": "stream",
     "text": [
      "20.7 ms ± 443 μs per loop (mean ± std. dev. of 7 runs, 10 loops each)\n"
     ]
    }
   ],
   "source": [
    "%%timeit\n",
    "# pandasで実装したもの\n",
    "normalize_tpm(df_count, gene_length)"
   ]
  },
  {
   "cell_type": "code",
   "execution_count": 51,
   "metadata": {},
   "outputs": [],
   "source": [
    "# valuesによりnumpy.ndarrayとして数値データを抽出\n",
    "counts = df_count.values\n",
    "length =gene_length.values"
   ]
  },
  {
   "cell_type": "code",
   "execution_count": 52,
   "metadata": {},
   "outputs": [
    {
     "name": "stdout",
     "output_type": "stream",
     "text": [
      "3.8 ms ± 30.3 μs per loop (mean ± std. dev. of 7 runs, 100 loops each)\n"
     ]
    }
   ],
   "source": [
    "%%timeit\n",
    "# numpyで計算\n",
    "# 長さで正規化。行方向へbroadcastを行うため、reshapeしておく必要がある\n",
    "counts_tmp = counts / length.reshape(-1, 1) * 1000\n",
    "# カウント数の各列の合計を求めておく\n",
    "sum_count = counts_tmp.sum(axis=0)\n",
    "# 100万カウントに揃える\n",
    "tpm = counts_tmp / sum_count * 1000000"
   ]
  },
  {
   "cell_type": "markdown",
   "metadata": {
    "collapsed": true
   },
   "source": [
    "### 4. TPM正規化したデータのクラスタリング\n",
    "matplotlib と scipy の必要モジュールをインポートします"
   ]
  },
  {
   "cell_type": "code",
   "execution_count": 53,
   "metadata": {},
   "outputs": [],
   "source": [
    "import matplotlib.pyplot as plt\n",
    "from scipy.cluster.hierarchy import linkage, dendrogram, fcluster"
   ]
  },
  {
   "cell_type": "code",
   "execution_count": 54,
   "metadata": {},
   "outputs": [
    {
     "data": {
      "text/html": [
       "<div>\n",
       "<style scoped>\n",
       "    .dataframe tbody tr th:only-of-type {\n",
       "        vertical-align: middle;\n",
       "    }\n",
       "\n",
       "    .dataframe tbody tr th {\n",
       "        vertical-align: top;\n",
       "    }\n",
       "\n",
       "    .dataframe thead th {\n",
       "        text-align: right;\n",
       "    }\n",
       "</style>\n",
       "<table border=\"1\" class=\"dataframe\">\n",
       "  <thead>\n",
       "    <tr style=\"text-align: right;\">\n",
       "      <th>target_id</th>\n",
       "      <th>ENSMUST00000178537.2</th>\n",
       "      <th>ENSMUST00000178862.2</th>\n",
       "      <th>ENSMUST00000196221.2</th>\n",
       "    </tr>\n",
       "  </thead>\n",
       "  <tbody>\n",
       "    <tr>\n",
       "      <th>wt_1</th>\n",
       "      <td>0.0</td>\n",
       "      <td>0.0</td>\n",
       "      <td>0.0</td>\n",
       "    </tr>\n",
       "    <tr>\n",
       "      <th>wt_2</th>\n",
       "      <td>0.0</td>\n",
       "      <td>0.0</td>\n",
       "      <td>0.0</td>\n",
       "    </tr>\n",
       "    <tr>\n",
       "      <th>wt_3</th>\n",
       "      <td>0.0</td>\n",
       "      <td>0.0</td>\n",
       "      <td>0.0</td>\n",
       "    </tr>\n",
       "    <tr>\n",
       "      <th>mutant_1</th>\n",
       "      <td>0.0</td>\n",
       "      <td>0.0</td>\n",
       "      <td>0.0</td>\n",
       "    </tr>\n",
       "    <tr>\n",
       "      <th>mutant_2</th>\n",
       "      <td>0.0</td>\n",
       "      <td>0.0</td>\n",
       "      <td>0.0</td>\n",
       "    </tr>\n",
       "    <tr>\n",
       "      <th>mutant_3</th>\n",
       "      <td>0.0</td>\n",
       "      <td>0.0</td>\n",
       "      <td>0.0</td>\n",
       "    </tr>\n",
       "  </tbody>\n",
       "</table>\n",
       "</div>"
      ],
      "text/plain": [
       "target_id  ENSMUST00000178537.2  ENSMUST00000178862.2  ENSMUST00000196221.2\n",
       "wt_1                        0.0                   0.0                   0.0\n",
       "wt_2                        0.0                   0.0                   0.0\n",
       "wt_3                        0.0                   0.0                   0.0\n",
       "mutant_1                    0.0                   0.0                   0.0\n",
       "mutant_2                    0.0                   0.0                   0.0\n",
       "mutant_3                    0.0                   0.0                   0.0"
      ]
     },
     "execution_count": 54,
     "metadata": {},
     "output_type": "execute_result"
    }
   ],
   "source": [
    "# 転置\n",
    "tpm_t = df_count_tpm.T\n",
    "\n",
    "# 確認\n",
    "tpm_t.iloc[:,0:3]"
   ]
  },
  {
   "cell_type": "code",
   "execution_count": 55,
   "metadata": {},
   "outputs": [
    {
     "data": {
      "image/png": "[encoded data removed]",
      "text/plain": [
       "<Figure size 800x400 with 1 Axes>"
      ]
     },
     "metadata": {},
     "output_type": "display_data"
    }
   ],
   "source": [
    "# クラスタリング\n",
    "linkage_result = linkage(tpm_t, method='average', metric='correlation')\n",
    "\n",
    "# 結果の可視化\n",
    "plt.figure(num=None, figsize = (8,4), facecolor='w', edgecolor='k')\n",
    "dendrogram(linkage_result,labels = list(tpm_t.index) )\n",
    "plt.show()"
   ]
  },
  {
   "cell_type": "markdown",
   "metadata": {},
   "source": [
    "参考：PCA"
   ]
  },
  {
   "cell_type": "code",
   "execution_count": 56,
   "metadata": {},
   "outputs": [
    {
     "name": "stdout",
     "output_type": "stream",
     "text": [
      "        PC1       PC2       PC3       PC4       PC5           PC6\n",
      "0  0.655758  0.167141  0.095467  0.048019  0.033615  9.286607e-31\n"
     ]
    },
    {
     "data": {
      "image/png": "[encoded data removed]",
      "text/plain": [
       "<Figure size 400x400 with 1 Axes>"
      ]
     },
     "metadata": {},
     "output_type": "display_data"
    }
   ],
   "source": [
    "import sklearn\n",
    "from sklearn.decomposition import PCA\n",
    "\n",
    "pca = PCA()\n",
    "pca.fit(tpm_t)\n",
    "\n",
    "# データを主成分空間に写像\n",
    "pca_row = pca.transform(tpm_t)\n",
    "\n",
    "# 寄与率を求める\n",
    "pca_col = [\"PC{}\".format(x + 1) for x in range(len(tpm_t.index))]\n",
    "df_con_ratio = pd.DataFrame([pca.explained_variance_ratio_], columns = pca_col)\n",
    "print(df_con_ratio.head())\n",
    "\n",
    "# PC1とPC2でplot\n",
    "plt.figure(figsize=(4, 4))\n",
    "plt.scatter(pca_row[:, 0], pca_row[:, 1], alpha=0.8, c=(1,1,1,2,2,2))\n",
    "plt.grid()\n",
    "plt.xlabel(\"PC1\")\n",
    "plt.ylabel(\"PC2\")\n",
    "annotations = tpm_t.index\n",
    "for i, label in enumerate(annotations):\n",
    "    plt.annotate(label, (pca_row[i, 0], pca_row[i, 1]))\n",
    "plt.show()"
   ]
  },
  {
   "cell_type": "markdown",
   "metadata": {},
   "source": [
    "### 5. 遺伝子アノテーションをつける"
   ]
  },
  {
   "cell_type": "markdown",
   "metadata": {},
   "source": [
    "#### Step1. アノテーションファイルを読み込む\n",
    "\n",
    "アノテーションデータ `annotation.tsv` はGRCm39のGFFファイル( `Mus_musculus.GRCm39.108.gff3` ) から必要な情報を抽出して作成しました<br>\n",
    "`annotation.tsv`を開くと以下のようになっています<br>\n",
    "\n",
    "```\n",
    "ENSMUST00000070533.5\tENSMUSG00000051951\tXkr4\tX-linked Kx blood group related 4 [Source:MGI Symbol;Acc:MGI:3528744]\n",
    "ENSMUST00000208660.2\tENSMUSG00000025900\tRp1\tretinitis pigmentosa 1 (human) [Source:MGI Symbol;Acc:MGI:1341105]\n",
    "ENSMUST00000027032.6\tENSMUSG00000025900\tRp1\tretinitis pigmentosa 1 (human) [Source:MGI Symbol;Acc:MGI:1341105]\n",
    "ENSMUST00000027035.10\tENSMUSG00000025902\tSox17\tSRY (sex determining region Y)-box 17 [Source:MGI Symbol;Acc:MGI:107543]\n",
    "ENSMUST00000195555.2\tENSMUSG00000025902\tSox17\tSRY (sex determining region Y)-box 17 [Source:MGI Symbol;Acc:MGI:107543]\n",
    "...\n",
    "```"
   ]
  },
  {
   "cell_type": "code",
   "execution_count": 57,
   "metadata": {},
   "outputs": [],
   "source": [
    "# アノテーションデータ(transcript_id, gene_id, descriptionを紐づけたファイル ( annotation.tsv ) のパスを指定\n",
    "annotation_file = 'data/annotation.tsv'"
   ]
  },
  {
   "cell_type": "markdown",
   "metadata": {},
   "source": [
    "DataFrame名を `annotations` として、 <br>\n",
    "ヘッダー（列名）は `names=['transcript_id', 'gene_id', 'gene_name', 'description']`として読み込みます"
   ]
  },
  {
   "cell_type": "code",
   "execution_count": 58,
   "metadata": {},
   "outputs": [
    {
     "name": "stdout",
     "output_type": "stream",
     "text": [
      "(66511, 4)\n"
     ]
    },
    {
     "data": {
      "text/html": [
       "<div>\n",
       "<style scoped>\n",
       "    .dataframe tbody tr th:only-of-type {\n",
       "        vertical-align: middle;\n",
       "    }\n",
       "\n",
       "    .dataframe tbody tr th {\n",
       "        vertical-align: top;\n",
       "    }\n",
       "\n",
       "    .dataframe thead th {\n",
       "        text-align: right;\n",
       "    }\n",
       "</style>\n",
       "<table border=\"1\" class=\"dataframe\">\n",
       "  <thead>\n",
       "    <tr style=\"text-align: right;\">\n",
       "      <th></th>\n",
       "      <th>transcript_id</th>\n",
       "      <th>gene_id</th>\n",
       "      <th>gene_name</th>\n",
       "      <th>description</th>\n",
       "    </tr>\n",
       "  </thead>\n",
       "  <tbody>\n",
       "    <tr>\n",
       "      <th>0</th>\n",
       "      <td>ENSMUST00000070533.5</td>\n",
       "      <td>ENSMUSG00000051951</td>\n",
       "      <td>Xkr4</td>\n",
       "      <td>X-linked Kx blood group related 4 [Source:MGI ...</td>\n",
       "    </tr>\n",
       "    <tr>\n",
       "      <th>1</th>\n",
       "      <td>ENSMUST00000208660.2</td>\n",
       "      <td>ENSMUSG00000025900</td>\n",
       "      <td>Rp1</td>\n",
       "      <td>retinitis pigmentosa 1 (human) [Source:MGI Sym...</td>\n",
       "    </tr>\n",
       "    <tr>\n",
       "      <th>2</th>\n",
       "      <td>ENSMUST00000027032.6</td>\n",
       "      <td>ENSMUSG00000025900</td>\n",
       "      <td>Rp1</td>\n",
       "      <td>retinitis pigmentosa 1 (human) [Source:MGI Sym...</td>\n",
       "    </tr>\n",
       "    <tr>\n",
       "      <th>3</th>\n",
       "      <td>ENSMUST00000027035.10</td>\n",
       "      <td>ENSMUSG00000025902</td>\n",
       "      <td>Sox17</td>\n",
       "      <td>SRY (sex determining region Y)-box 17 [Source:...</td>\n",
       "    </tr>\n",
       "    <tr>\n",
       "      <th>4</th>\n",
       "      <td>ENSMUST00000195555.2</td>\n",
       "      <td>ENSMUSG00000025902</td>\n",
       "      <td>Sox17</td>\n",
       "      <td>SRY (sex determining region Y)-box 17 [Source:...</td>\n",
       "    </tr>\n",
       "  </tbody>\n",
       "</table>\n",
       "</div>"
      ],
      "text/plain": [
       "           transcript_id             gene_id gene_name  \\\n",
       "0   ENSMUST00000070533.5  ENSMUSG00000051951      Xkr4   \n",
       "1   ENSMUST00000208660.2  ENSMUSG00000025900       Rp1   \n",
       "2   ENSMUST00000027032.6  ENSMUSG00000025900       Rp1   \n",
       "3  ENSMUST00000027035.10  ENSMUSG00000025902     Sox17   \n",
       "4   ENSMUST00000195555.2  ENSMUSG00000025902     Sox17   \n",
       "\n",
       "                                         description  \n",
       "0  X-linked Kx blood group related 4 [Source:MGI ...  \n",
       "1  retinitis pigmentosa 1 (human) [Source:MGI Sym...  \n",
       "2  retinitis pigmentosa 1 (human) [Source:MGI Sym...  \n",
       "3  SRY (sex determining region Y)-box 17 [Source:...  \n",
       "4  SRY (sex determining region Y)-box 17 [Source:...  "
      ]
     },
     "execution_count": 58,
     "metadata": {},
     "output_type": "execute_result"
    }
   ],
   "source": [
    "annotations = pd.read_table(annotation_file, names=['transcript_id', 'gene_id', 'gene_name', 'description'])\n",
    "print(annotations.shape)\n",
    "annotations.head()"
   ]
  },
  {
   "cell_type": "markdown",
   "metadata": {},
   "source": [
    "#### Step2. アノテーションデータとカウントデータを連結\n",
    "2つのDataFrame `df` と `annotations` を連結します<br>\n",
    "`annotation` には mRNA のデータしか含まれていないので、rRNA などのデータはこの時点で除かれます<br>\n",
    "ただし、`gene_name`列の値が `mt-` で始まるミトコンドリア遺伝子が含まれています"
   ]
  },
  {
   "cell_type": "code",
   "execution_count": 59,
   "metadata": {},
   "outputs": [
    {
     "data": {
      "text/html": [
       "<div>\n",
       "<style scoped>\n",
       "    .dataframe tbody tr th:only-of-type {\n",
       "        vertical-align: middle;\n",
       "    }\n",
       "\n",
       "    .dataframe tbody tr th {\n",
       "        vertical-align: top;\n",
       "    }\n",
       "\n",
       "    .dataframe thead th {\n",
       "        text-align: right;\n",
       "    }\n",
       "</style>\n",
       "<table border=\"1\" class=\"dataframe\">\n",
       "  <thead>\n",
       "    <tr style=\"text-align: right;\">\n",
       "      <th></th>\n",
       "      <th>eff_length</th>\n",
       "      <th>wt_1</th>\n",
       "      <th>wt_2</th>\n",
       "      <th>wt_3</th>\n",
       "      <th>mutant_1</th>\n",
       "      <th>mutant_2</th>\n",
       "      <th>mutant_3</th>\n",
       "      <th>transcript_id</th>\n",
       "    </tr>\n",
       "    <tr>\n",
       "      <th>target_id</th>\n",
       "      <th></th>\n",
       "      <th></th>\n",
       "      <th></th>\n",
       "      <th></th>\n",
       "      <th></th>\n",
       "      <th></th>\n",
       "      <th></th>\n",
       "      <th></th>\n",
       "    </tr>\n",
       "  </thead>\n",
       "  <tbody>\n",
       "    <tr>\n",
       "      <th>ENSMUST00000178537.2</th>\n",
       "      <td>6.74193</td>\n",
       "      <td>0.0</td>\n",
       "      <td>0.0</td>\n",
       "      <td>0.0</td>\n",
       "      <td>0.0</td>\n",
       "      <td>0.0</td>\n",
       "      <td>0.0</td>\n",
       "      <td>ENSMUST00000178537.2</td>\n",
       "    </tr>\n",
       "    <tr>\n",
       "      <th>ENSMUST00000178862.2</th>\n",
       "      <td>7.65825</td>\n",
       "      <td>0.0</td>\n",
       "      <td>0.0</td>\n",
       "      <td>0.0</td>\n",
       "      <td>0.0</td>\n",
       "      <td>0.0</td>\n",
       "      <td>0.0</td>\n",
       "      <td>ENSMUST00000178862.2</td>\n",
       "    </tr>\n",
       "    <tr>\n",
       "      <th>ENSMUST00000196221.2</th>\n",
       "      <td>5.34639</td>\n",
       "      <td>0.0</td>\n",
       "      <td>0.0</td>\n",
       "      <td>0.0</td>\n",
       "      <td>0.0</td>\n",
       "      <td>0.0</td>\n",
       "      <td>0.0</td>\n",
       "      <td>ENSMUST00000196221.2</td>\n",
       "    </tr>\n",
       "    <tr>\n",
       "      <th>ENSMUST00000179664.2</th>\n",
       "      <td>6.27959</td>\n",
       "      <td>0.0</td>\n",
       "      <td>0.0</td>\n",
       "      <td>0.0</td>\n",
       "      <td>0.0</td>\n",
       "      <td>0.0</td>\n",
       "      <td>0.0</td>\n",
       "      <td>ENSMUST00000179664.2</td>\n",
       "    </tr>\n",
       "    <tr>\n",
       "      <th>ENSMUST00000177564.2</th>\n",
       "      <td>8.56364</td>\n",
       "      <td>0.0</td>\n",
       "      <td>0.0</td>\n",
       "      <td>0.0</td>\n",
       "      <td>0.0</td>\n",
       "      <td>0.0</td>\n",
       "      <td>0.0</td>\n",
       "      <td>ENSMUST00000177564.2</td>\n",
       "    </tr>\n",
       "  </tbody>\n",
       "</table>\n",
       "</div>"
      ],
      "text/plain": [
       "                      eff_length  wt_1  wt_2  wt_3  mutant_1  mutant_2  \\\n",
       "target_id                                                                \n",
       "ENSMUST00000178537.2     6.74193   0.0   0.0   0.0       0.0       0.0   \n",
       "ENSMUST00000178862.2     7.65825   0.0   0.0   0.0       0.0       0.0   \n",
       "ENSMUST00000196221.2     5.34639   0.0   0.0   0.0       0.0       0.0   \n",
       "ENSMUST00000179664.2     6.27959   0.0   0.0   0.0       0.0       0.0   \n",
       "ENSMUST00000177564.2     8.56364   0.0   0.0   0.0       0.0       0.0   \n",
       "\n",
       "                      mutant_3         transcript_id  \n",
       "target_id                                             \n",
       "ENSMUST00000178537.2       0.0  ENSMUST00000178537.2  \n",
       "ENSMUST00000178862.2       0.0  ENSMUST00000178862.2  \n",
       "ENSMUST00000196221.2       0.0  ENSMUST00000196221.2  \n",
       "ENSMUST00000179664.2       0.0  ENSMUST00000179664.2  \n",
       "ENSMUST00000177564.2       0.0  ENSMUST00000177564.2  "
      ]
     },
     "execution_count": 59,
     "metadata": {},
     "output_type": "execute_result"
    }
   ],
   "source": [
    "df_with_product = df.copy()\n",
    "df_with_product['transcript_id'] = df_with_product.index\n",
    "df_with_product.head()"
   ]
  },
  {
   "cell_type": "code",
   "execution_count": 60,
   "metadata": {},
   "outputs": [],
   "source": [
    "df_with_product = pd.merge(df_with_product, annotations, on='transcript_id', how='inner')"
   ]
  },
  {
   "cell_type": "code",
   "execution_count": 61,
   "metadata": {},
   "outputs": [],
   "source": [
    "# concatを使った場合\n",
    "# pd.concat([gene_products, df], axis=1, join=\"inner\")"
   ]
  },
  {
   "cell_type": "code",
   "execution_count": 62,
   "metadata": {},
   "outputs": [],
   "source": [
    "# transcript_id列をindexにする\n",
    "df_with_product.set_index('transcript_id', inplace=True)"
   ]
  },
  {
   "cell_type": "markdown",
   "metadata": {},
   "source": [
    "アノテーション付きカウントデータを`count_preprocessed.tsv`として保存します<br>"
   ]
  },
  {
   "cell_type": "code",
   "execution_count": 63,
   "metadata": {},
   "outputs": [],
   "source": [
    "# アノテーション付きデータの保存\n",
    "df_with_product.to_csv('output/count_preprocessed.tsv', sep = '\\t')"
   ]
  },
  {
   "cell_type": "markdown",
   "metadata": {},
   "source": [
    "TPMデータにもアノテーション付与"
   ]
  },
  {
   "cell_type": "code",
   "execution_count": 64,
   "metadata": {},
   "outputs": [
    {
     "data": {
      "text/html": [
       "<div>\n",
       "<style scoped>\n",
       "    .dataframe tbody tr th:only-of-type {\n",
       "        vertical-align: middle;\n",
       "    }\n",
       "\n",
       "    .dataframe tbody tr th {\n",
       "        vertical-align: top;\n",
       "    }\n",
       "\n",
       "    .dataframe thead th {\n",
       "        text-align: right;\n",
       "    }\n",
       "</style>\n",
       "<table border=\"1\" class=\"dataframe\">\n",
       "  <thead>\n",
       "    <tr style=\"text-align: right;\">\n",
       "      <th></th>\n",
       "      <th>wt_1</th>\n",
       "      <th>wt_2</th>\n",
       "      <th>wt_3</th>\n",
       "      <th>mutant_1</th>\n",
       "      <th>mutant_2</th>\n",
       "      <th>mutant_3</th>\n",
       "      <th>gene_id</th>\n",
       "      <th>gene_name</th>\n",
       "      <th>description</th>\n",
       "    </tr>\n",
       "    <tr>\n",
       "      <th>transcript_id</th>\n",
       "      <th></th>\n",
       "      <th></th>\n",
       "      <th></th>\n",
       "      <th></th>\n",
       "      <th></th>\n",
       "      <th></th>\n",
       "      <th></th>\n",
       "      <th></th>\n",
       "      <th></th>\n",
       "    </tr>\n",
       "  </thead>\n",
       "  <tbody>\n",
       "    <tr>\n",
       "      <th>ENSMUST00000082392.1</th>\n",
       "      <td>3827.160918</td>\n",
       "      <td>6997.591290</td>\n",
       "      <td>4142.728550</td>\n",
       "      <td>3760.466540</td>\n",
       "      <td>3431.461573</td>\n",
       "      <td>6816.806391</td>\n",
       "      <td>ENSMUSG00000064341</td>\n",
       "      <td>mt-Nd1</td>\n",
       "      <td>mitochondrially encoded NADH dehydrogenase 1 [...</td>\n",
       "    </tr>\n",
       "    <tr>\n",
       "      <th>ENSMUST00000082396.1</th>\n",
       "      <td>2789.780229</td>\n",
       "      <td>4888.041645</td>\n",
       "      <td>2494.352104</td>\n",
       "      <td>2340.315938</td>\n",
       "      <td>2465.722778</td>\n",
       "      <td>4939.294983</td>\n",
       "      <td>ENSMUSG00000064345</td>\n",
       "      <td>mt-Nd2</td>\n",
       "      <td>mitochondrially encoded NADH dehydrogenase 2 [...</td>\n",
       "    </tr>\n",
       "    <tr>\n",
       "      <th>ENSMUST00000082402.1</th>\n",
       "      <td>5473.715014</td>\n",
       "      <td>11775.036281</td>\n",
       "      <td>6695.282675</td>\n",
       "      <td>7199.326865</td>\n",
       "      <td>7677.455631</td>\n",
       "      <td>11257.516939</td>\n",
       "      <td>ENSMUSG00000064351</td>\n",
       "      <td>mt-Co1</td>\n",
       "      <td>mitochondrially encoded cytochrome c oxidase I...</td>\n",
       "    </tr>\n",
       "    <tr>\n",
       "      <th>ENSMUST00000082405.1</th>\n",
       "      <td>4091.154892</td>\n",
       "      <td>8624.462767</td>\n",
       "      <td>3794.312528</td>\n",
       "      <td>2514.256397</td>\n",
       "      <td>3667.110133</td>\n",
       "      <td>8602.764457</td>\n",
       "      <td>ENSMUSG00000064354</td>\n",
       "      <td>mt-Co2</td>\n",
       "      <td>mitochondrially encoded cytochrome c oxidase I...</td>\n",
       "    </tr>\n",
       "    <tr>\n",
       "      <th>ENSMUST00000082407.1</th>\n",
       "      <td>3457.787163</td>\n",
       "      <td>6542.109723</td>\n",
       "      <td>3499.266048</td>\n",
       "      <td>3228.979622</td>\n",
       "      <td>3243.172745</td>\n",
       "      <td>7595.596472</td>\n",
       "      <td>ENSMUSG00000064356</td>\n",
       "      <td>mt-Atp8</td>\n",
       "      <td>mitochondrially encoded ATP synthase 8 [Source...</td>\n",
       "    </tr>\n",
       "  </tbody>\n",
       "</table>\n",
       "</div>"
      ],
      "text/plain": [
       "                             wt_1          wt_2         wt_3     mutant_1  \\\n",
       "transcript_id                                                               \n",
       "ENSMUST00000082392.1  3827.160918   6997.591290  4142.728550  3760.466540   \n",
       "ENSMUST00000082396.1  2789.780229   4888.041645  2494.352104  2340.315938   \n",
       "ENSMUST00000082402.1  5473.715014  11775.036281  6695.282675  7199.326865   \n",
       "ENSMUST00000082405.1  4091.154892   8624.462767  3794.312528  2514.256397   \n",
       "ENSMUST00000082407.1  3457.787163   6542.109723  3499.266048  3228.979622   \n",
       "\n",
       "                         mutant_2      mutant_3             gene_id gene_name  \\\n",
       "transcript_id                                                                   \n",
       "ENSMUST00000082392.1  3431.461573   6816.806391  ENSMUSG00000064341    mt-Nd1   \n",
       "ENSMUST00000082396.1  2465.722778   4939.294983  ENSMUSG00000064345    mt-Nd2   \n",
       "ENSMUST00000082402.1  7677.455631  11257.516939  ENSMUSG00000064351    mt-Co1   \n",
       "ENSMUST00000082405.1  3667.110133   8602.764457  ENSMUSG00000064354    mt-Co2   \n",
       "ENSMUST00000082407.1  3243.172745   7595.596472  ENSMUSG00000064356   mt-Atp8   \n",
       "\n",
       "                                                            description  \n",
       "transcript_id                                                            \n",
       "ENSMUST00000082392.1  mitochondrially encoded NADH dehydrogenase 1 [...  \n",
       "ENSMUST00000082396.1  mitochondrially encoded NADH dehydrogenase 2 [...  \n",
       "ENSMUST00000082402.1  mitochondrially encoded cytochrome c oxidase I...  \n",
       "ENSMUST00000082405.1  mitochondrially encoded cytochrome c oxidase I...  \n",
       "ENSMUST00000082407.1  mitochondrially encoded ATP synthase 8 [Source...  "
      ]
     },
     "execution_count": 64,
     "metadata": {},
     "output_type": "execute_result"
    }
   ],
   "source": [
    "df_tpm_with_product = df_count_tpm.copy()\n",
    "df_tpm_with_product['transcript_id'] = df_tpm_with_product.index\n",
    "df_tpm_with_product = pd.merge(df_tpm_with_product, annotations, on='transcript_id', how='inner')\n",
    "df_tpm_with_product.set_index('transcript_id', inplace=True)\n",
    "\n",
    "df_tpm_with_product.head()"
   ]
  },
  {
   "cell_type": "code",
   "execution_count": 65,
   "metadata": {},
   "outputs": [],
   "source": [
    "# アノテーション付きデータの保存\n",
    "df_tpm_with_product.to_csv('output/tpm_with_product.tsv', sep = '\\t')"
   ]
  },
  {
   "cell_type": "markdown",
   "metadata": {},
   "source": [
    "### 6. 発現変動遺伝子を抽出する"
   ]
  },
  {
   "cell_type": "markdown",
   "metadata": {},
   "source": [
    "TPM正規化データを用います<br>\n",
    "wild typeの平均を求めます"
   ]
  },
  {
   "cell_type": "code",
   "execution_count": 66,
   "metadata": {},
   "outputs": [],
   "source": [
    "df_count_tpm['wt'] = (df_count_tpm['wt_1'] + df_count_tpm['wt_2'] + df_count_tpm['wt_3']) / 3"
   ]
  },
  {
   "cell_type": "markdown",
   "metadata": {},
   "source": [
    "mutantの平均を求めます"
   ]
  },
  {
   "cell_type": "code",
   "execution_count": 67,
   "metadata": {},
   "outputs": [],
   "source": [
    "df_count_tpm['mutant'] = (df_count_tpm['mutant_1'] + df_count_tpm['mutant_2'] + df_count_tpm['mutant_3']) / 3"
   ]
  },
  {
   "cell_type": "markdown",
   "metadata": {
    "collapsed": true
   },
   "source": [
    "発現変動をlog2 fold として求めます<br>\n",
    "0 での除算を防ぐため、分母に微小な値を加えています<br>"
   ]
  },
  {
   "cell_type": "code",
   "execution_count": 68,
   "metadata": {},
   "outputs": [],
   "source": [
    "df_count_tpm['log2fold'] = df_count_tpm['mutant'] / (df_count_tpm['wt'] + 10**-6)\n",
    "df_count_tpm['log2fold'] = df_count_tpm['log2fold'].apply(np.log2)"
   ]
  },
  {
   "cell_type": "code",
   "execution_count": 69,
   "metadata": {},
   "outputs": [
    {
     "data": {
      "text/html": [
       "<div>\n",
       "<style scoped>\n",
       "    .dataframe tbody tr th:only-of-type {\n",
       "        vertical-align: middle;\n",
       "    }\n",
       "\n",
       "    .dataframe tbody tr th {\n",
       "        vertical-align: top;\n",
       "    }\n",
       "\n",
       "    .dataframe thead th {\n",
       "        text-align: right;\n",
       "    }\n",
       "</style>\n",
       "<table border=\"1\" class=\"dataframe\">\n",
       "  <thead>\n",
       "    <tr style=\"text-align: right;\">\n",
       "      <th></th>\n",
       "      <th>wt_1</th>\n",
       "      <th>wt_2</th>\n",
       "      <th>wt_3</th>\n",
       "      <th>mutant_1</th>\n",
       "      <th>mutant_2</th>\n",
       "      <th>mutant_3</th>\n",
       "      <th>wt</th>\n",
       "      <th>mutant</th>\n",
       "      <th>log2fold</th>\n",
       "    </tr>\n",
       "    <tr>\n",
       "      <th>target_id</th>\n",
       "      <th></th>\n",
       "      <th></th>\n",
       "      <th></th>\n",
       "      <th></th>\n",
       "      <th></th>\n",
       "      <th></th>\n",
       "      <th></th>\n",
       "      <th></th>\n",
       "      <th></th>\n",
       "    </tr>\n",
       "  </thead>\n",
       "  <tbody>\n",
       "    <tr>\n",
       "      <th>ENSMUST00000212686.2</th>\n",
       "      <td>13.375947</td>\n",
       "      <td>14.821739</td>\n",
       "      <td>22.403762</td>\n",
       "      <td>18.415533</td>\n",
       "      <td>36.517768</td>\n",
       "      <td>8.398009</td>\n",
       "      <td>16.867149</td>\n",
       "      <td>21.110437</td>\n",
       "      <td>0.323740</td>\n",
       "    </tr>\n",
       "    <tr>\n",
       "      <th>ENSMUST00000034369.10</th>\n",
       "      <td>13.106564</td>\n",
       "      <td>8.277109</td>\n",
       "      <td>15.581013</td>\n",
       "      <td>14.654594</td>\n",
       "      <td>25.243265</td>\n",
       "      <td>15.944429</td>\n",
       "      <td>12.321562</td>\n",
       "      <td>18.614096</td>\n",
       "      <td>0.595210</td>\n",
       "    </tr>\n",
       "    <tr>\n",
       "      <th>ENSMUST00000212938.2</th>\n",
       "      <td>6.836943</td>\n",
       "      <td>3.819315</td>\n",
       "      <td>5.853242</td>\n",
       "      <td>6.041180</td>\n",
       "      <td>0.000000</td>\n",
       "      <td>1.653678</td>\n",
       "      <td>5.503167</td>\n",
       "      <td>2.564953</td>\n",
       "      <td>-1.101330</td>\n",
       "    </tr>\n",
       "    <tr>\n",
       "      <th>ENSMUST00000212876.2</th>\n",
       "      <td>0.000000</td>\n",
       "      <td>1.468917</td>\n",
       "      <td>0.000000</td>\n",
       "      <td>0.002062</td>\n",
       "      <td>7.556400</td>\n",
       "      <td>2.798090</td>\n",
       "      <td>0.489639</td>\n",
       "      <td>3.452184</td>\n",
       "      <td>2.817716</td>\n",
       "    </tr>\n",
       "    <tr>\n",
       "      <th>ENSMUST00000212595.2</th>\n",
       "      <td>13.309972</td>\n",
       "      <td>4.883908</td>\n",
       "      <td>5.236949</td>\n",
       "      <td>5.128239</td>\n",
       "      <td>1.434403</td>\n",
       "      <td>0.000000</td>\n",
       "      <td>7.810276</td>\n",
       "      <td>2.187548</td>\n",
       "      <td>-1.836059</td>\n",
       "    </tr>\n",
       "  </tbody>\n",
       "</table>\n",
       "</div>"
      ],
      "text/plain": [
       "                            wt_1       wt_2       wt_3   mutant_1   mutant_2  \\\n",
       "target_id                                                                      \n",
       "ENSMUST00000212686.2   13.375947  14.821739  22.403762  18.415533  36.517768   \n",
       "ENSMUST00000034369.10  13.106564   8.277109  15.581013  14.654594  25.243265   \n",
       "ENSMUST00000212938.2    6.836943   3.819315   5.853242   6.041180   0.000000   \n",
       "ENSMUST00000212876.2    0.000000   1.468917   0.000000   0.002062   7.556400   \n",
       "ENSMUST00000212595.2   13.309972   4.883908   5.236949   5.128239   1.434403   \n",
       "\n",
       "                        mutant_3         wt     mutant  log2fold  \n",
       "target_id                                                         \n",
       "ENSMUST00000212686.2    8.398009  16.867149  21.110437  0.323740  \n",
       "ENSMUST00000034369.10  15.944429  12.321562  18.614096  0.595210  \n",
       "ENSMUST00000212938.2    1.653678   5.503167   2.564953 -1.101330  \n",
       "ENSMUST00000212876.2    2.798090   0.489639   3.452184  2.817716  \n",
       "ENSMUST00000212595.2    0.000000   7.810276   2.187548 -1.836059  "
      ]
     },
     "execution_count": 69,
     "metadata": {},
     "output_type": "execute_result"
    }
   ],
   "source": [
    "df_count_tpm.iloc[6085:6090,]"
   ]
  },
  {
   "cell_type": "markdown",
   "metadata": {},
   "source": [
    "必要部分のみ抜き出し、productと結合します<br>\n",
    "`df_count_tpm` から'wt', 'mutant', 'log2fold'の列を抜き出し`diff_ex`とします"
   ]
  },
  {
   "cell_type": "code",
   "execution_count": 70,
   "metadata": {},
   "outputs": [],
   "source": [
    "diff_ex = df_count_tpm.copy()\n",
    "diff_ex = diff_ex[['wt', 'mutant', 'log2fold']]\n",
    "diff_ex ['transcript_id']= diff_ex.index"
   ]
  },
  {
   "cell_type": "code",
   "execution_count": 71,
   "metadata": {},
   "outputs": [],
   "source": [
    "diff_ex = pd.merge(diff_ex, annotations, on = 'transcript_id', how = 'right')\n",
    "diff_ex.set_index('transcript_id', inplace = True)"
   ]
  },
  {
   "cell_type": "code",
   "execution_count": 72,
   "metadata": {},
   "outputs": [
    {
     "data": {
      "text/html": [
       "<div>\n",
       "<style scoped>\n",
       "    .dataframe tbody tr th:only-of-type {\n",
       "        vertical-align: middle;\n",
       "    }\n",
       "\n",
       "    .dataframe tbody tr th {\n",
       "        vertical-align: top;\n",
       "    }\n",
       "\n",
       "    .dataframe thead th {\n",
       "        text-align: right;\n",
       "    }\n",
       "</style>\n",
       "<table border=\"1\" class=\"dataframe\">\n",
       "  <thead>\n",
       "    <tr style=\"text-align: right;\">\n",
       "      <th></th>\n",
       "      <th>wt</th>\n",
       "      <th>mutant</th>\n",
       "      <th>log2fold</th>\n",
       "      <th>gene_id</th>\n",
       "      <th>gene_name</th>\n",
       "      <th>description</th>\n",
       "    </tr>\n",
       "    <tr>\n",
       "      <th>transcript_id</th>\n",
       "      <th></th>\n",
       "      <th></th>\n",
       "      <th></th>\n",
       "      <th></th>\n",
       "      <th></th>\n",
       "      <th></th>\n",
       "    </tr>\n",
       "  </thead>\n",
       "  <tbody>\n",
       "    <tr>\n",
       "      <th>ENSMUST00000070533.5</th>\n",
       "      <td>0.016716</td>\n",
       "      <td>0.478301</td>\n",
       "      <td>4.838570</td>\n",
       "      <td>ENSMUSG00000051951</td>\n",
       "      <td>Xkr4</td>\n",
       "      <td>X-linked Kx blood group related 4 [Source:MGI ...</td>\n",
       "    </tr>\n",
       "    <tr>\n",
       "      <th>ENSMUST00000208660.2</th>\n",
       "      <td>0.009890</td>\n",
       "      <td>0.000000</td>\n",
       "      <td>-inf</td>\n",
       "      <td>ENSMUSG00000025900</td>\n",
       "      <td>Rp1</td>\n",
       "      <td>retinitis pigmentosa 1 (human) [Source:MGI Sym...</td>\n",
       "    </tr>\n",
       "    <tr>\n",
       "      <th>ENSMUST00000027032.6</th>\n",
       "      <td>0.003724</td>\n",
       "      <td>0.007725</td>\n",
       "      <td>1.052415</td>\n",
       "      <td>ENSMUSG00000025900</td>\n",
       "      <td>Rp1</td>\n",
       "      <td>retinitis pigmentosa 1 (human) [Source:MGI Sym...</td>\n",
       "    </tr>\n",
       "    <tr>\n",
       "      <th>ENSMUST00000027035.10</th>\n",
       "      <td>0.000000</td>\n",
       "      <td>0.000000</td>\n",
       "      <td>-inf</td>\n",
       "      <td>ENSMUSG00000025902</td>\n",
       "      <td>Sox17</td>\n",
       "      <td>SRY (sex determining region Y)-box 17 [Source:...</td>\n",
       "    </tr>\n",
       "    <tr>\n",
       "      <th>ENSMUST00000195555.2</th>\n",
       "      <td>0.008930</td>\n",
       "      <td>0.032763</td>\n",
       "      <td>1.875142</td>\n",
       "      <td>ENSMUSG00000025902</td>\n",
       "      <td>Sox17</td>\n",
       "      <td>SRY (sex determining region Y)-box 17 [Source:...</td>\n",
       "    </tr>\n",
       "  </tbody>\n",
       "</table>\n",
       "</div>"
      ],
      "text/plain": [
       "                             wt    mutant  log2fold             gene_id  \\\n",
       "transcript_id                                                             \n",
       "ENSMUST00000070533.5   0.016716  0.478301  4.838570  ENSMUSG00000051951   \n",
       "ENSMUST00000208660.2   0.009890  0.000000      -inf  ENSMUSG00000025900   \n",
       "ENSMUST00000027032.6   0.003724  0.007725  1.052415  ENSMUSG00000025900   \n",
       "ENSMUST00000027035.10  0.000000  0.000000      -inf  ENSMUSG00000025902   \n",
       "ENSMUST00000195555.2   0.008930  0.032763  1.875142  ENSMUSG00000025902   \n",
       "\n",
       "                      gene_name  \\\n",
       "transcript_id                     \n",
       "ENSMUST00000070533.5       Xkr4   \n",
       "ENSMUST00000208660.2        Rp1   \n",
       "ENSMUST00000027032.6        Rp1   \n",
       "ENSMUST00000027035.10     Sox17   \n",
       "ENSMUST00000195555.2      Sox17   \n",
       "\n",
       "                                                             description  \n",
       "transcript_id                                                             \n",
       "ENSMUST00000070533.5   X-linked Kx blood group related 4 [Source:MGI ...  \n",
       "ENSMUST00000208660.2   retinitis pigmentosa 1 (human) [Source:MGI Sym...  \n",
       "ENSMUST00000027032.6   retinitis pigmentosa 1 (human) [Source:MGI Sym...  \n",
       "ENSMUST00000027035.10  SRY (sex determining region Y)-box 17 [Source:...  \n",
       "ENSMUST00000195555.2   SRY (sex determining region Y)-box 17 [Source:...  "
      ]
     },
     "execution_count": 72,
     "metadata": {},
     "output_type": "execute_result"
    }
   ],
   "source": [
    "diff_ex.head()"
   ]
  },
  {
   "cell_type": "markdown",
   "metadata": {},
   "source": [
    "カウント数が0であるデータを除きます"
   ]
  },
  {
   "cell_type": "code",
   "execution_count": 73,
   "metadata": {},
   "outputs": [],
   "source": [
    "diff_ex = diff_ex[diff_ex['wt'] > 0]\n",
    "diff_ex = diff_ex[diff_ex['mutant'] > 0]"
   ]
  },
  {
   "cell_type": "code",
   "execution_count": 74,
   "metadata": {},
   "outputs": [
    {
     "data": {
      "text/plain": [
       "(42015, 6)"
      ]
     },
     "execution_count": 74,
     "metadata": {},
     "output_type": "execute_result"
    }
   ],
   "source": [
    "diff_ex.shape"
   ]
  },
  {
   "cell_type": "code",
   "execution_count": 75,
   "metadata": {},
   "outputs": [
    {
     "data": {
      "text/html": [
       "<div>\n",
       "<style scoped>\n",
       "    .dataframe tbody tr th:only-of-type {\n",
       "        vertical-align: middle;\n",
       "    }\n",
       "\n",
       "    .dataframe tbody tr th {\n",
       "        vertical-align: top;\n",
       "    }\n",
       "\n",
       "    .dataframe thead th {\n",
       "        text-align: right;\n",
       "    }\n",
       "</style>\n",
       "<table border=\"1\" class=\"dataframe\">\n",
       "  <thead>\n",
       "    <tr style=\"text-align: right;\">\n",
       "      <th></th>\n",
       "      <th>wt</th>\n",
       "      <th>mutant</th>\n",
       "      <th>log2fold</th>\n",
       "      <th>gene_id</th>\n",
       "      <th>gene_name</th>\n",
       "      <th>description</th>\n",
       "    </tr>\n",
       "    <tr>\n",
       "      <th>transcript_id</th>\n",
       "      <th></th>\n",
       "      <th></th>\n",
       "      <th></th>\n",
       "      <th></th>\n",
       "      <th></th>\n",
       "      <th></th>\n",
       "    </tr>\n",
       "  </thead>\n",
       "  <tbody>\n",
       "    <tr>\n",
       "      <th>ENSMUST00000070533.5</th>\n",
       "      <td>0.016716</td>\n",
       "      <td>0.478301</td>\n",
       "      <td>4.838570</td>\n",
       "      <td>ENSMUSG00000051951</td>\n",
       "      <td>Xkr4</td>\n",
       "      <td>X-linked Kx blood group related 4 [Source:MGI ...</td>\n",
       "    </tr>\n",
       "    <tr>\n",
       "      <th>ENSMUST00000027032.6</th>\n",
       "      <td>0.003724</td>\n",
       "      <td>0.007725</td>\n",
       "      <td>1.052415</td>\n",
       "      <td>ENSMUSG00000025900</td>\n",
       "      <td>Rp1</td>\n",
       "      <td>retinitis pigmentosa 1 (human) [Source:MGI Sym...</td>\n",
       "    </tr>\n",
       "    <tr>\n",
       "      <th>ENSMUST00000195555.2</th>\n",
       "      <td>0.008930</td>\n",
       "      <td>0.032763</td>\n",
       "      <td>1.875142</td>\n",
       "      <td>ENSMUSG00000025902</td>\n",
       "      <td>Sox17</td>\n",
       "      <td>SRY (sex determining region Y)-box 17 [Source:...</td>\n",
       "    </tr>\n",
       "    <tr>\n",
       "      <th>ENSMUST00000191939.2</th>\n",
       "      <td>0.024349</td>\n",
       "      <td>0.146222</td>\n",
       "      <td>2.586177</td>\n",
       "      <td>ENSMUSG00000025902</td>\n",
       "      <td>Sox17</td>\n",
       "      <td>SRY (sex determining region Y)-box 17 [Source:...</td>\n",
       "    </tr>\n",
       "    <tr>\n",
       "      <th>ENSMUST00000130201.8</th>\n",
       "      <td>2.980996</td>\n",
       "      <td>1.404258</td>\n",
       "      <td>-1.085987</td>\n",
       "      <td>ENSMUSG00000033845</td>\n",
       "      <td>Mrpl15</td>\n",
       "      <td>mitochondrial ribosomal protein L15 [Source:MG...</td>\n",
       "    </tr>\n",
       "  </tbody>\n",
       "</table>\n",
       "</div>"
      ],
      "text/plain": [
       "                            wt    mutant  log2fold             gene_id  \\\n",
       "transcript_id                                                            \n",
       "ENSMUST00000070533.5  0.016716  0.478301  4.838570  ENSMUSG00000051951   \n",
       "ENSMUST00000027032.6  0.003724  0.007725  1.052415  ENSMUSG00000025900   \n",
       "ENSMUST00000195555.2  0.008930  0.032763  1.875142  ENSMUSG00000025902   \n",
       "ENSMUST00000191939.2  0.024349  0.146222  2.586177  ENSMUSG00000025902   \n",
       "ENSMUST00000130201.8  2.980996  1.404258 -1.085987  ENSMUSG00000033845   \n",
       "\n",
       "                     gene_name  \\\n",
       "transcript_id                    \n",
       "ENSMUST00000070533.5      Xkr4   \n",
       "ENSMUST00000027032.6       Rp1   \n",
       "ENSMUST00000195555.2     Sox17   \n",
       "ENSMUST00000191939.2     Sox17   \n",
       "ENSMUST00000130201.8    Mrpl15   \n",
       "\n",
       "                                                            description  \n",
       "transcript_id                                                            \n",
       "ENSMUST00000070533.5  X-linked Kx blood group related 4 [Source:MGI ...  \n",
       "ENSMUST00000027032.6  retinitis pigmentosa 1 (human) [Source:MGI Sym...  \n",
       "ENSMUST00000195555.2  SRY (sex determining region Y)-box 17 [Source:...  \n",
       "ENSMUST00000191939.2  SRY (sex determining region Y)-box 17 [Source:...  \n",
       "ENSMUST00000130201.8  mitochondrial ribosomal protein L15 [Source:MG...  "
      ]
     },
     "execution_count": 75,
     "metadata": {},
     "output_type": "execute_result"
    }
   ],
   "source": [
    "diff_ex.head()"
   ]
  },
  {
   "cell_type": "markdown",
   "metadata": {},
   "source": [
    "`diff_ex.sort_values()`を使い`log2fold`の降順に並びかえます"
   ]
  },
  {
   "cell_type": "code",
   "execution_count": 76,
   "metadata": {},
   "outputs": [],
   "source": [
    "diff_ex = diff_ex.sort_values(by = 'log2fold',ascending = False)"
   ]
  },
  {
   "cell_type": "markdown",
   "metadata": {},
   "source": [
    "発現変動遺伝子の上位を表示してみましょう"
   ]
  },
  {
   "cell_type": "code",
   "execution_count": 77,
   "metadata": {},
   "outputs": [
    {
     "data": {
      "text/html": [
       "<div>\n",
       "<style scoped>\n",
       "    .dataframe tbody tr th:only-of-type {\n",
       "        vertical-align: middle;\n",
       "    }\n",
       "\n",
       "    .dataframe tbody tr th {\n",
       "        vertical-align: top;\n",
       "    }\n",
       "\n",
       "    .dataframe thead th {\n",
       "        text-align: right;\n",
       "    }\n",
       "</style>\n",
       "<table border=\"1\" class=\"dataframe\">\n",
       "  <thead>\n",
       "    <tr style=\"text-align: right;\">\n",
       "      <th></th>\n",
       "      <th>wt</th>\n",
       "      <th>mutant</th>\n",
       "      <th>log2fold</th>\n",
       "      <th>gene_id</th>\n",
       "      <th>gene_name</th>\n",
       "      <th>description</th>\n",
       "    </tr>\n",
       "    <tr>\n",
       "      <th>transcript_id</th>\n",
       "      <th></th>\n",
       "      <th></th>\n",
       "      <th></th>\n",
       "      <th></th>\n",
       "      <th></th>\n",
       "      <th></th>\n",
       "    </tr>\n",
       "  </thead>\n",
       "  <tbody>\n",
       "    <tr>\n",
       "      <th>ENSMUST00000098911.10</th>\n",
       "      <td>7.457162e-09</td>\n",
       "      <td>20.100816</td>\n",
       "      <td>24.250032</td>\n",
       "      <td>ENSMUSG00000074457</td>\n",
       "      <td>S100a16</td>\n",
       "      <td>S100 calcium binding protein A16 [Source:MGI S...</td>\n",
       "    </tr>\n",
       "    <tr>\n",
       "      <th>ENSMUST00000144576.8</th>\n",
       "      <td>7.056743e-09</td>\n",
       "      <td>8.935712</td>\n",
       "      <td>23.081006</td>\n",
       "      <td>ENSMUSG00000062963</td>\n",
       "      <td>Ufc1</td>\n",
       "      <td>ubiquitin-fold modifier conjugating enzyme 1 [...</td>\n",
       "    </tr>\n",
       "    <tr>\n",
       "      <th>ENSMUST00000077182.13</th>\n",
       "      <td>1.317549e-08</td>\n",
       "      <td>8.945620</td>\n",
       "      <td>23.073866</td>\n",
       "      <td>ENSMUSG00000033768</td>\n",
       "      <td>Nrxn2</td>\n",
       "      <td>neurexin II [Source:MGI Symbol;Acc:MGI:1096362]</td>\n",
       "    </tr>\n",
       "    <tr>\n",
       "      <th>ENSMUST00000052776.4</th>\n",
       "      <td>6.085283e-07</td>\n",
       "      <td>12.143848</td>\n",
       "      <td>22.847981</td>\n",
       "      <td>ENSMUSG00000050799</td>\n",
       "      <td>H2bc1</td>\n",
       "      <td>H2B clustered histone 1 [Source:MGI Symbol;Acc...</td>\n",
       "    </tr>\n",
       "    <tr>\n",
       "      <th>ENSMUST00000138759.8</th>\n",
       "      <td>6.809789e-08</td>\n",
       "      <td>6.050536</td>\n",
       "      <td>22.433588</td>\n",
       "      <td>ENSMUSG00000061046</td>\n",
       "      <td>Haghl</td>\n",
       "      <td>hydroxyacylglutathione hydrolase-like [Source:...</td>\n",
       "    </tr>\n",
       "  </tbody>\n",
       "</table>\n",
       "</div>"
      ],
      "text/plain": [
       "                                 wt     mutant   log2fold             gene_id  \\\n",
       "transcript_id                                                                   \n",
       "ENSMUST00000098911.10  7.457162e-09  20.100816  24.250032  ENSMUSG00000074457   \n",
       "ENSMUST00000144576.8   7.056743e-09   8.935712  23.081006  ENSMUSG00000062963   \n",
       "ENSMUST00000077182.13  1.317549e-08   8.945620  23.073866  ENSMUSG00000033768   \n",
       "ENSMUST00000052776.4   6.085283e-07  12.143848  22.847981  ENSMUSG00000050799   \n",
       "ENSMUST00000138759.8   6.809789e-08   6.050536  22.433588  ENSMUSG00000061046   \n",
       "\n",
       "                      gene_name  \\\n",
       "transcript_id                     \n",
       "ENSMUST00000098911.10   S100a16   \n",
       "ENSMUST00000144576.8       Ufc1   \n",
       "ENSMUST00000077182.13     Nrxn2   \n",
       "ENSMUST00000052776.4      H2bc1   \n",
       "ENSMUST00000138759.8      Haghl   \n",
       "\n",
       "                                                             description  \n",
       "transcript_id                                                             \n",
       "ENSMUST00000098911.10  S100 calcium binding protein A16 [Source:MGI S...  \n",
       "ENSMUST00000144576.8   ubiquitin-fold modifier conjugating enzyme 1 [...  \n",
       "ENSMUST00000077182.13    neurexin II [Source:MGI Symbol;Acc:MGI:1096362]  \n",
       "ENSMUST00000052776.4   H2B clustered histone 1 [Source:MGI Symbol;Acc...  \n",
       "ENSMUST00000138759.8   hydroxyacylglutathione hydrolase-like [Source:...  "
      ]
     },
     "execution_count": 77,
     "metadata": {},
     "output_type": "execute_result"
    }
   ],
   "source": [
    "# mutant > wt の上位5番目まで表示\n",
    "diff_ex.head()"
   ]
  },
  {
   "cell_type": "code",
   "execution_count": 78,
   "metadata": {},
   "outputs": [
    {
     "data": {
      "text/html": [
       "<div>\n",
       "<style scoped>\n",
       "    .dataframe tbody tr th:only-of-type {\n",
       "        vertical-align: middle;\n",
       "    }\n",
       "\n",
       "    .dataframe tbody tr th {\n",
       "        vertical-align: top;\n",
       "    }\n",
       "\n",
       "    .dataframe thead th {\n",
       "        text-align: right;\n",
       "    }\n",
       "</style>\n",
       "<table border=\"1\" class=\"dataframe\">\n",
       "  <thead>\n",
       "    <tr style=\"text-align: right;\">\n",
       "      <th></th>\n",
       "      <th>wt</th>\n",
       "      <th>mutant</th>\n",
       "      <th>log2fold</th>\n",
       "      <th>gene_id</th>\n",
       "      <th>gene_name</th>\n",
       "      <th>description</th>\n",
       "    </tr>\n",
       "    <tr>\n",
       "      <th>transcript_id</th>\n",
       "      <th></th>\n",
       "      <th></th>\n",
       "      <th></th>\n",
       "      <th></th>\n",
       "      <th></th>\n",
       "      <th></th>\n",
       "    </tr>\n",
       "  </thead>\n",
       "  <tbody>\n",
       "    <tr>\n",
       "      <th>ENSMUST00000113727.8</th>\n",
       "      <td>1.105071</td>\n",
       "      <td>2.105748e-10</td>\n",
       "      <td>-32.289088</td>\n",
       "      <td>ENSMUSG00000024862</td>\n",
       "      <td>Klc2</td>\n",
       "      <td>kinesin light chain 2 [Source:MGI Symbol;Acc:M...</td>\n",
       "    </tr>\n",
       "    <tr>\n",
       "      <th>ENSMUST00000234489.2</th>\n",
       "      <td>1.834887</td>\n",
       "      <td>3.020251e-10</td>\n",
       "      <td>-32.500304</td>\n",
       "      <td>ENSMUSG00000039183</td>\n",
       "      <td>Nubp2</td>\n",
       "      <td>nucleotide binding protein 2 [Source:MGI Symbo...</td>\n",
       "    </tr>\n",
       "    <tr>\n",
       "      <th>ENSMUST00000193200.6</th>\n",
       "      <td>0.557938</td>\n",
       "      <td>8.821290e-11</td>\n",
       "      <td>-32.558398</td>\n",
       "      <td>ENSMUSG00000067629</td>\n",
       "      <td>Syngap1</td>\n",
       "      <td>synaptic Ras GTPase activating protein 1 homol...</td>\n",
       "    </tr>\n",
       "    <tr>\n",
       "      <th>ENSMUST00000120753.3</th>\n",
       "      <td>0.662754</td>\n",
       "      <td>6.192146e-11</td>\n",
       "      <td>-33.317316</td>\n",
       "      <td>ENSMUSG00000030530</td>\n",
       "      <td>Furin</td>\n",
       "      <td>furin (paired basic amino acid cleaving enzyme...</td>\n",
       "    </tr>\n",
       "    <tr>\n",
       "      <th>ENSMUST00000107739.8</th>\n",
       "      <td>0.763148</td>\n",
       "      <td>6.270177e-11</td>\n",
       "      <td>-33.502739</td>\n",
       "      <td>ENSMUSG00000001507</td>\n",
       "      <td>Itga3</td>\n",
       "      <td>integrin alpha 3 [Source:MGI Symbol;Acc:MGI:96...</td>\n",
       "    </tr>\n",
       "  </tbody>\n",
       "</table>\n",
       "</div>"
      ],
      "text/plain": [
       "                            wt        mutant   log2fold             gene_id  \\\n",
       "transcript_id                                                                 \n",
       "ENSMUST00000113727.8  1.105071  2.105748e-10 -32.289088  ENSMUSG00000024862   \n",
       "ENSMUST00000234489.2  1.834887  3.020251e-10 -32.500304  ENSMUSG00000039183   \n",
       "ENSMUST00000193200.6  0.557938  8.821290e-11 -32.558398  ENSMUSG00000067629   \n",
       "ENSMUST00000120753.3  0.662754  6.192146e-11 -33.317316  ENSMUSG00000030530   \n",
       "ENSMUST00000107739.8  0.763148  6.270177e-11 -33.502739  ENSMUSG00000001507   \n",
       "\n",
       "                     gene_name  \\\n",
       "transcript_id                    \n",
       "ENSMUST00000113727.8      Klc2   \n",
       "ENSMUST00000234489.2     Nubp2   \n",
       "ENSMUST00000193200.6   Syngap1   \n",
       "ENSMUST00000120753.3     Furin   \n",
       "ENSMUST00000107739.8     Itga3   \n",
       "\n",
       "                                                            description  \n",
       "transcript_id                                                            \n",
       "ENSMUST00000113727.8  kinesin light chain 2 [Source:MGI Symbol;Acc:M...  \n",
       "ENSMUST00000234489.2  nucleotide binding protein 2 [Source:MGI Symbo...  \n",
       "ENSMUST00000193200.6  synaptic Ras GTPase activating protein 1 homol...  \n",
       "ENSMUST00000120753.3  furin (paired basic amino acid cleaving enzyme...  \n",
       "ENSMUST00000107739.8  integrin alpha 3 [Source:MGI Symbol;Acc:MGI:96...  "
      ]
     },
     "execution_count": 78,
     "metadata": {},
     "output_type": "execute_result"
    }
   ],
   "source": [
    "# wt > mutant の上位5番目まで表示\n",
    "diff_ex.tail()"
   ]
  },
  {
   "cell_type": "markdown",
   "metadata": {},
   "source": [
    "参考\n",
    "- 実験医学別冊　独習Pythonバイオ情報解析　第6,7章　(2021年、先進ゲノム解析研究推進プラットフォーム編、ISBN978-4-7581-2249-8)\n",
    "- pandas 公式サイト　https://pandas.pydata.org\n",
    "- note.nknk.me pandas関連記事まとめ　https://note.nkmk.me/python-pandas-post-summary/"
   ]
  }
 ],
 "metadata": {
  "kernelspec": {
   "display_name": "pags2024",
   "language": "python",
   "name": "python3"
  },
  "language_info": {
   "codemirror_mode": {
    "name": "ipython",
    "version": 3
   },
   "file_extension": ".py",
   "mimetype": "text/x-python",
   "name": "python",
   "nbconvert_exporter": "python",
   "pygments_lexer": "ipython3",
   "version": "3.12.8"
  },
  "toc": {
   "colors": {
    "hover_highlight": "#DAA520",
    "running_highlight": "#FF0000",
    "selected_highlight": "#FFD700"
   },
   "moveMenuLeft": true,
   "nav_menu": {
    "height": "102px",
    "width": "252px"
   },
   "navigate_menu": true,
   "number_sections": true,
   "sideBar": true,
   "threshold": 4,
   "toc_cell": false,
   "toc_section_display": "block",
   "toc_window_display": false
  }
 },
 "nbformat": 4,
 "nbformat_minor": 2
}
